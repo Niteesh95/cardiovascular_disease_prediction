{
 "cells": [
  {
   "cell_type": "code",
   "execution_count": 3,
   "id": "826e273c",
   "metadata": {},
   "outputs": [],
   "source": [
    "# Importing essential libraries\n",
    "import numpy as np\n",
    "import pandas as pd\n",
    "import matplotlib.pyplot as plt\n",
    "import seaborn as sns \n",
    "import plotly.express as px\n",
    "%matplotlib inline\n",
    "\n",
    "#EDA\n",
    "from statsmodels.stats.outliers_influence import variance_inflation_factor\n",
    "from statsmodels.tools.tools import add_constant\n",
    "from sklearn.preprocessing import MinMaxScaler\n",
    "from sklearn.model_selection import train_test_split\n",
    "\n",
    "#importing classification models\n",
    "from sklearn.ensemble import RandomForestClassifier, AdaBoostClassifier\n",
    "from sklearn.neighbors import KNeighborsClassifier\n",
    "from sklearn.svm import SVC\n",
    "from sklearn.naive_bayes import GaussianNB\n",
    "from sklearn.tree import DecisionTreeClassifier\n",
    "from sklearn.model_selection import cross_val_score, KFold\n",
    "from sklearn.metrics import confusion_matrix, accuracy_score,f1_score\n",
    "from sklearn.metrics import classification_report, ConfusionMatrixDisplay\n",
    "from xgboost import XGBClassifier\n",
    "from sklearn import metrics\n",
    "from sklearn.linear_model import LogisticRegression\n",
    "from sklearn.model_selection import GridSearchCV\n",
    "\n",
    "import warnings\n",
    "warnings.filterwarnings('ignore')\n",
    "\n",
    "pd.options.display.max_rows = 9999\n"
   ]
  },
  {
   "cell_type": "code",
   "execution_count": 31,
   "id": "285fb88e",
   "metadata": {},
   "outputs": [
    {
     "data": {
      "text/html": [
       "<div>\n",
       "<style scoped>\n",
       "    .dataframe tbody tr th:only-of-type {\n",
       "        vertical-align: middle;\n",
       "    }\n",
       "\n",
       "    .dataframe tbody tr th {\n",
       "        vertical-align: top;\n",
       "    }\n",
       "\n",
       "    .dataframe thead th {\n",
       "        text-align: right;\n",
       "    }\n",
       "</style>\n",
       "<table border=\"1\" class=\"dataframe\">\n",
       "  <thead>\n",
       "    <tr style=\"text-align: right;\">\n",
       "      <th></th>\n",
       "      <th>id</th>\n",
       "      <th>age</th>\n",
       "      <th>gender</th>\n",
       "      <th>height</th>\n",
       "      <th>weight</th>\n",
       "      <th>ap_hi</th>\n",
       "      <th>ap_lo</th>\n",
       "      <th>cholesterol</th>\n",
       "      <th>gluc</th>\n",
       "      <th>smoke</th>\n",
       "      <th>alco</th>\n",
       "      <th>active</th>\n",
       "      <th>cardio</th>\n",
       "    </tr>\n",
       "  </thead>\n",
       "  <tbody>\n",
       "    <tr>\n",
       "      <th>0</th>\n",
       "      <td>0</td>\n",
       "      <td>18393</td>\n",
       "      <td>2</td>\n",
       "      <td>168</td>\n",
       "      <td>62.0</td>\n",
       "      <td>110</td>\n",
       "      <td>80</td>\n",
       "      <td>1</td>\n",
       "      <td>1</td>\n",
       "      <td>0</td>\n",
       "      <td>0</td>\n",
       "      <td>1</td>\n",
       "      <td>0</td>\n",
       "    </tr>\n",
       "    <tr>\n",
       "      <th>1</th>\n",
       "      <td>1</td>\n",
       "      <td>20228</td>\n",
       "      <td>1</td>\n",
       "      <td>156</td>\n",
       "      <td>85.0</td>\n",
       "      <td>140</td>\n",
       "      <td>90</td>\n",
       "      <td>3</td>\n",
       "      <td>1</td>\n",
       "      <td>0</td>\n",
       "      <td>0</td>\n",
       "      <td>1</td>\n",
       "      <td>1</td>\n",
       "    </tr>\n",
       "    <tr>\n",
       "      <th>2</th>\n",
       "      <td>2</td>\n",
       "      <td>18857</td>\n",
       "      <td>1</td>\n",
       "      <td>165</td>\n",
       "      <td>64.0</td>\n",
       "      <td>130</td>\n",
       "      <td>70</td>\n",
       "      <td>3</td>\n",
       "      <td>1</td>\n",
       "      <td>0</td>\n",
       "      <td>0</td>\n",
       "      <td>0</td>\n",
       "      <td>1</td>\n",
       "    </tr>\n",
       "    <tr>\n",
       "      <th>3</th>\n",
       "      <td>3</td>\n",
       "      <td>17623</td>\n",
       "      <td>2</td>\n",
       "      <td>169</td>\n",
       "      <td>82.0</td>\n",
       "      <td>150</td>\n",
       "      <td>100</td>\n",
       "      <td>1</td>\n",
       "      <td>1</td>\n",
       "      <td>0</td>\n",
       "      <td>0</td>\n",
       "      <td>1</td>\n",
       "      <td>1</td>\n",
       "    </tr>\n",
       "    <tr>\n",
       "      <th>4</th>\n",
       "      <td>4</td>\n",
       "      <td>17474</td>\n",
       "      <td>1</td>\n",
       "      <td>156</td>\n",
       "      <td>56.0</td>\n",
       "      <td>100</td>\n",
       "      <td>60</td>\n",
       "      <td>1</td>\n",
       "      <td>1</td>\n",
       "      <td>0</td>\n",
       "      <td>0</td>\n",
       "      <td>0</td>\n",
       "      <td>0</td>\n",
       "    </tr>\n",
       "  </tbody>\n",
       "</table>\n",
       "</div>"
      ],
      "text/plain": [
       "   id    age  gender  height  weight  ap_hi  ap_lo  cholesterol  gluc  smoke  \\\n",
       "0   0  18393       2     168    62.0    110     80            1     1      0   \n",
       "1   1  20228       1     156    85.0    140     90            3     1      0   \n",
       "2   2  18857       1     165    64.0    130     70            3     1      0   \n",
       "3   3  17623       2     169    82.0    150    100            1     1      0   \n",
       "4   4  17474       1     156    56.0    100     60            1     1      0   \n",
       "\n",
       "   alco  active  cardio  \n",
       "0     0       1       0  \n",
       "1     0       1       1  \n",
       "2     0       0       1  \n",
       "3     0       1       1  \n",
       "4     0       0       0  "
      ]
     },
     "execution_count": 31,
     "metadata": {},
     "output_type": "execute_result"
    }
   ],
   "source": [
    "#Import the dataset\n",
    "data = pd.read_csv(\"../data/cardio_train.csv\")\n",
    "data.head()\n"
   ]
  },
  {
   "cell_type": "code",
   "execution_count": 32,
   "id": "a9af2451",
   "metadata": {},
   "outputs": [],
   "source": [
    "df = data.copy()"
   ]
  },
  {
   "cell_type": "code",
   "execution_count": 33,
   "id": "6cb1ac70",
   "metadata": {},
   "outputs": [],
   "source": [
    "data.drop('id', inplace=True, axis=1)"
   ]
  },
  {
   "cell_type": "code",
   "execution_count": 34,
   "id": "60cc4e04",
   "metadata": {},
   "outputs": [
    {
     "name": "stdout",
     "output_type": "stream",
     "text": [
      "<class 'pandas.core.frame.DataFrame'>\n",
      "RangeIndex: 70000 entries, 0 to 69999\n",
      "Data columns (total 12 columns):\n",
      " #   Column       Non-Null Count  Dtype  \n",
      "---  ------       --------------  -----  \n",
      " 0   age          70000 non-null  int64  \n",
      " 1   gender       70000 non-null  int64  \n",
      " 2   height       70000 non-null  int64  \n",
      " 3   weight       70000 non-null  float64\n",
      " 4   ap_hi        70000 non-null  int64  \n",
      " 5   ap_lo        70000 non-null  int64  \n",
      " 6   cholesterol  70000 non-null  int64  \n",
      " 7   gluc         70000 non-null  int64  \n",
      " 8   smoke        70000 non-null  int64  \n",
      " 9   alco         70000 non-null  int64  \n",
      " 10  active       70000 non-null  int64  \n",
      " 11  cardio       70000 non-null  int64  \n",
      "dtypes: float64(1), int64(11)\n",
      "memory usage: 6.4 MB\n"
     ]
    }
   ],
   "source": [
    "data.info()"
   ]
  },
  {
   "cell_type": "markdown",
   "id": "f26125a7",
   "metadata": {},
   "source": [
    "# EDA"
   ]
  },
  {
   "cell_type": "code",
   "execution_count": 35,
   "id": "3a986dfb",
   "metadata": {},
   "outputs": [
    {
     "data": {
      "text/html": [
       "<div>\n",
       "<style scoped>\n",
       "    .dataframe tbody tr th:only-of-type {\n",
       "        vertical-align: middle;\n",
       "    }\n",
       "\n",
       "    .dataframe tbody tr th {\n",
       "        vertical-align: top;\n",
       "    }\n",
       "\n",
       "    .dataframe thead th {\n",
       "        text-align: right;\n",
       "    }\n",
       "</style>\n",
       "<table border=\"1\" class=\"dataframe\">\n",
       "  <thead>\n",
       "    <tr style=\"text-align: right;\">\n",
       "      <th></th>\n",
       "      <th>count</th>\n",
       "      <th>mean</th>\n",
       "      <th>std</th>\n",
       "      <th>min</th>\n",
       "      <th>25%</th>\n",
       "      <th>50%</th>\n",
       "      <th>75%</th>\n",
       "      <th>max</th>\n",
       "    </tr>\n",
       "  </thead>\n",
       "  <tbody>\n",
       "    <tr>\n",
       "      <th>age</th>\n",
       "      <td>70000.0</td>\n",
       "      <td>19468.865814</td>\n",
       "      <td>2467.251667</td>\n",
       "      <td>10798.0</td>\n",
       "      <td>17664.0</td>\n",
       "      <td>19703.0</td>\n",
       "      <td>21327.0</td>\n",
       "      <td>23713.0</td>\n",
       "    </tr>\n",
       "    <tr>\n",
       "      <th>gender</th>\n",
       "      <td>70000.0</td>\n",
       "      <td>1.349571</td>\n",
       "      <td>0.476838</td>\n",
       "      <td>1.0</td>\n",
       "      <td>1.0</td>\n",
       "      <td>1.0</td>\n",
       "      <td>2.0</td>\n",
       "      <td>2.0</td>\n",
       "    </tr>\n",
       "    <tr>\n",
       "      <th>height</th>\n",
       "      <td>70000.0</td>\n",
       "      <td>164.359229</td>\n",
       "      <td>8.210126</td>\n",
       "      <td>55.0</td>\n",
       "      <td>159.0</td>\n",
       "      <td>165.0</td>\n",
       "      <td>170.0</td>\n",
       "      <td>250.0</td>\n",
       "    </tr>\n",
       "    <tr>\n",
       "      <th>weight</th>\n",
       "      <td>70000.0</td>\n",
       "      <td>74.205690</td>\n",
       "      <td>14.395757</td>\n",
       "      <td>10.0</td>\n",
       "      <td>65.0</td>\n",
       "      <td>72.0</td>\n",
       "      <td>82.0</td>\n",
       "      <td>200.0</td>\n",
       "    </tr>\n",
       "    <tr>\n",
       "      <th>ap_hi</th>\n",
       "      <td>70000.0</td>\n",
       "      <td>128.817286</td>\n",
       "      <td>154.011419</td>\n",
       "      <td>-150.0</td>\n",
       "      <td>120.0</td>\n",
       "      <td>120.0</td>\n",
       "      <td>140.0</td>\n",
       "      <td>16020.0</td>\n",
       "    </tr>\n",
       "    <tr>\n",
       "      <th>ap_lo</th>\n",
       "      <td>70000.0</td>\n",
       "      <td>96.630414</td>\n",
       "      <td>188.472530</td>\n",
       "      <td>-70.0</td>\n",
       "      <td>80.0</td>\n",
       "      <td>80.0</td>\n",
       "      <td>90.0</td>\n",
       "      <td>11000.0</td>\n",
       "    </tr>\n",
       "    <tr>\n",
       "      <th>cholesterol</th>\n",
       "      <td>70000.0</td>\n",
       "      <td>1.366871</td>\n",
       "      <td>0.680250</td>\n",
       "      <td>1.0</td>\n",
       "      <td>1.0</td>\n",
       "      <td>1.0</td>\n",
       "      <td>2.0</td>\n",
       "      <td>3.0</td>\n",
       "    </tr>\n",
       "    <tr>\n",
       "      <th>gluc</th>\n",
       "      <td>70000.0</td>\n",
       "      <td>1.226457</td>\n",
       "      <td>0.572270</td>\n",
       "      <td>1.0</td>\n",
       "      <td>1.0</td>\n",
       "      <td>1.0</td>\n",
       "      <td>1.0</td>\n",
       "      <td>3.0</td>\n",
       "    </tr>\n",
       "    <tr>\n",
       "      <th>smoke</th>\n",
       "      <td>70000.0</td>\n",
       "      <td>0.088129</td>\n",
       "      <td>0.283484</td>\n",
       "      <td>0.0</td>\n",
       "      <td>0.0</td>\n",
       "      <td>0.0</td>\n",
       "      <td>0.0</td>\n",
       "      <td>1.0</td>\n",
       "    </tr>\n",
       "    <tr>\n",
       "      <th>alco</th>\n",
       "      <td>70000.0</td>\n",
       "      <td>0.053771</td>\n",
       "      <td>0.225568</td>\n",
       "      <td>0.0</td>\n",
       "      <td>0.0</td>\n",
       "      <td>0.0</td>\n",
       "      <td>0.0</td>\n",
       "      <td>1.0</td>\n",
       "    </tr>\n",
       "    <tr>\n",
       "      <th>active</th>\n",
       "      <td>70000.0</td>\n",
       "      <td>0.803729</td>\n",
       "      <td>0.397179</td>\n",
       "      <td>0.0</td>\n",
       "      <td>1.0</td>\n",
       "      <td>1.0</td>\n",
       "      <td>1.0</td>\n",
       "      <td>1.0</td>\n",
       "    </tr>\n",
       "    <tr>\n",
       "      <th>cardio</th>\n",
       "      <td>70000.0</td>\n",
       "      <td>0.499700</td>\n",
       "      <td>0.500003</td>\n",
       "      <td>0.0</td>\n",
       "      <td>0.0</td>\n",
       "      <td>0.0</td>\n",
       "      <td>1.0</td>\n",
       "      <td>1.0</td>\n",
       "    </tr>\n",
       "  </tbody>\n",
       "</table>\n",
       "</div>"
      ],
      "text/plain": [
       "               count          mean          std      min      25%      50%  \\\n",
       "age          70000.0  19468.865814  2467.251667  10798.0  17664.0  19703.0   \n",
       "gender       70000.0      1.349571     0.476838      1.0      1.0      1.0   \n",
       "height       70000.0    164.359229     8.210126     55.0    159.0    165.0   \n",
       "weight       70000.0     74.205690    14.395757     10.0     65.0     72.0   \n",
       "ap_hi        70000.0    128.817286   154.011419   -150.0    120.0    120.0   \n",
       "ap_lo        70000.0     96.630414   188.472530    -70.0     80.0     80.0   \n",
       "cholesterol  70000.0      1.366871     0.680250      1.0      1.0      1.0   \n",
       "gluc         70000.0      1.226457     0.572270      1.0      1.0      1.0   \n",
       "smoke        70000.0      0.088129     0.283484      0.0      0.0      0.0   \n",
       "alco         70000.0      0.053771     0.225568      0.0      0.0      0.0   \n",
       "active       70000.0      0.803729     0.397179      0.0      1.0      1.0   \n",
       "cardio       70000.0      0.499700     0.500003      0.0      0.0      0.0   \n",
       "\n",
       "                 75%      max  \n",
       "age          21327.0  23713.0  \n",
       "gender           2.0      2.0  \n",
       "height         170.0    250.0  \n",
       "weight          82.0    200.0  \n",
       "ap_hi          140.0  16020.0  \n",
       "ap_lo           90.0  11000.0  \n",
       "cholesterol      2.0      3.0  \n",
       "gluc             1.0      3.0  \n",
       "smoke            0.0      1.0  \n",
       "alco             0.0      1.0  \n",
       "active           1.0      1.0  \n",
       "cardio           1.0      1.0  "
      ]
     },
     "execution_count": 35,
     "metadata": {},
     "output_type": "execute_result"
    }
   ],
   "source": [
    "data.describe().T"
   ]
  },
  {
   "cell_type": "code",
   "execution_count": 36,
   "id": "a4d2dbe6",
   "metadata": {},
   "outputs": [],
   "source": [
    "data.drop_duplicates(inplace=True)"
   ]
  },
  {
   "cell_type": "markdown",
   "id": "1d5fd1dd",
   "metadata": {},
   "source": [
    "Age is given in number of days, we need ot convert it into years."
   ]
  },
  {
   "cell_type": "code",
   "execution_count": 37,
   "id": "53aa4fa5",
   "metadata": {},
   "outputs": [],
   "source": [
    "#Converting age from days to years\n",
    "data['age'] = (data['age'] / 365).round().astype('int64')"
   ]
  },
  {
   "cell_type": "code",
   "execution_count": 38,
   "id": "8e2ac574",
   "metadata": {},
   "outputs": [],
   "source": [
    "#ap_lo (diastolic bp) cannot be higher than ap_hi (systolic bp)\n",
    "data = data.drop(data[data['ap_lo'] > data['ap_hi']].index)"
   ]
  },
  {
   "cell_type": "code",
   "execution_count": 39,
   "id": "e0022d3b",
   "metadata": {},
   "outputs": [],
   "source": [
    "#create a body mass index 'bmi' feature from weight and height columns\n",
    "data[\"bmi\"] = data[\"weight\"] / (data[\"height\"]/100)**2"
   ]
  },
  {
   "cell_type": "code",
   "execution_count": 40,
   "id": "2795cc44",
   "metadata": {},
   "outputs": [
    {
     "data": {
      "text/plain": [
       "age            0\n",
       "gender         0\n",
       "height         0\n",
       "weight         0\n",
       "ap_hi          0\n",
       "ap_lo          0\n",
       "cholesterol    0\n",
       "gluc           0\n",
       "smoke          0\n",
       "alco           0\n",
       "active         0\n",
       "cardio         0\n",
       "bmi            0\n",
       "dtype: int64"
      ]
     },
     "execution_count": 40,
     "metadata": {},
     "output_type": "execute_result"
    }
   ],
   "source": [
    "data.isnull().sum()"
   ]
  },
  {
   "cell_type": "code",
   "execution_count": 41,
   "id": "6575f248",
   "metadata": {},
   "outputs": [
    {
     "name": "stdout",
     "output_type": "stream",
     "text": [
      "<class 'pandas.core.frame.DataFrame'>\n",
      "Int64Index: 68742 entries, 0 to 69999\n",
      "Data columns (total 13 columns):\n",
      " #   Column       Non-Null Count  Dtype  \n",
      "---  ------       --------------  -----  \n",
      " 0   age          68742 non-null  int64  \n",
      " 1   gender       68742 non-null  int64  \n",
      " 2   height       68742 non-null  int64  \n",
      " 3   weight       68742 non-null  float64\n",
      " 4   ap_hi        68742 non-null  int64  \n",
      " 5   ap_lo        68742 non-null  int64  \n",
      " 6   cholesterol  68742 non-null  int64  \n",
      " 7   gluc         68742 non-null  int64  \n",
      " 8   smoke        68742 non-null  int64  \n",
      " 9   alco         68742 non-null  int64  \n",
      " 10  active       68742 non-null  int64  \n",
      " 11  cardio       68742 non-null  int64  \n",
      " 12  bmi          68742 non-null  float64\n",
      "dtypes: float64(2), int64(11)\n",
      "memory usage: 7.3 MB\n"
     ]
    }
   ],
   "source": [
    "data.info()"
   ]
  },
  {
   "cell_type": "code",
   "execution_count": 42,
   "id": "7927bc3d",
   "metadata": {},
   "outputs": [
    {
     "data": {
      "text/plain": [
       "(68742, 13)"
      ]
     },
     "execution_count": 42,
     "metadata": {},
     "output_type": "execute_result"
    }
   ],
   "source": [
    "data.shape"
   ]
  },
  {
   "cell_type": "code",
   "execution_count": 43,
   "id": "e78cdb07",
   "metadata": {},
   "outputs": [
    {
     "data": {
      "text/html": [
       "<div>\n",
       "<style scoped>\n",
       "    .dataframe tbody tr th:only-of-type {\n",
       "        vertical-align: middle;\n",
       "    }\n",
       "\n",
       "    .dataframe tbody tr th {\n",
       "        vertical-align: top;\n",
       "    }\n",
       "\n",
       "    .dataframe thead th {\n",
       "        text-align: right;\n",
       "    }\n",
       "</style>\n",
       "<table border=\"1\" class=\"dataframe\">\n",
       "  <thead>\n",
       "    <tr style=\"text-align: right;\">\n",
       "      <th></th>\n",
       "      <th>age</th>\n",
       "      <th>gender</th>\n",
       "      <th>height</th>\n",
       "      <th>weight</th>\n",
       "      <th>ap_hi</th>\n",
       "      <th>ap_lo</th>\n",
       "      <th>cholesterol</th>\n",
       "      <th>gluc</th>\n",
       "      <th>smoke</th>\n",
       "      <th>alco</th>\n",
       "      <th>active</th>\n",
       "      <th>cardio</th>\n",
       "      <th>bmi</th>\n",
       "    </tr>\n",
       "  </thead>\n",
       "  <tbody>\n",
       "    <tr>\n",
       "      <th>0</th>\n",
       "      <td>50</td>\n",
       "      <td>2</td>\n",
       "      <td>168</td>\n",
       "      <td>62.0</td>\n",
       "      <td>110</td>\n",
       "      <td>80</td>\n",
       "      <td>1</td>\n",
       "      <td>1</td>\n",
       "      <td>0</td>\n",
       "      <td>0</td>\n",
       "      <td>1</td>\n",
       "      <td>0</td>\n",
       "      <td>21.967120</td>\n",
       "    </tr>\n",
       "    <tr>\n",
       "      <th>1</th>\n",
       "      <td>55</td>\n",
       "      <td>1</td>\n",
       "      <td>156</td>\n",
       "      <td>85.0</td>\n",
       "      <td>140</td>\n",
       "      <td>90</td>\n",
       "      <td>3</td>\n",
       "      <td>1</td>\n",
       "      <td>0</td>\n",
       "      <td>0</td>\n",
       "      <td>1</td>\n",
       "      <td>1</td>\n",
       "      <td>34.927679</td>\n",
       "    </tr>\n",
       "    <tr>\n",
       "      <th>2</th>\n",
       "      <td>52</td>\n",
       "      <td>1</td>\n",
       "      <td>165</td>\n",
       "      <td>64.0</td>\n",
       "      <td>130</td>\n",
       "      <td>70</td>\n",
       "      <td>3</td>\n",
       "      <td>1</td>\n",
       "      <td>0</td>\n",
       "      <td>0</td>\n",
       "      <td>0</td>\n",
       "      <td>1</td>\n",
       "      <td>23.507805</td>\n",
       "    </tr>\n",
       "    <tr>\n",
       "      <th>3</th>\n",
       "      <td>48</td>\n",
       "      <td>2</td>\n",
       "      <td>169</td>\n",
       "      <td>82.0</td>\n",
       "      <td>150</td>\n",
       "      <td>100</td>\n",
       "      <td>1</td>\n",
       "      <td>1</td>\n",
       "      <td>0</td>\n",
       "      <td>0</td>\n",
       "      <td>1</td>\n",
       "      <td>1</td>\n",
       "      <td>28.710479</td>\n",
       "    </tr>\n",
       "    <tr>\n",
       "      <th>4</th>\n",
       "      <td>48</td>\n",
       "      <td>1</td>\n",
       "      <td>156</td>\n",
       "      <td>56.0</td>\n",
       "      <td>100</td>\n",
       "      <td>60</td>\n",
       "      <td>1</td>\n",
       "      <td>1</td>\n",
       "      <td>0</td>\n",
       "      <td>0</td>\n",
       "      <td>0</td>\n",
       "      <td>0</td>\n",
       "      <td>23.011177</td>\n",
       "    </tr>\n",
       "  </tbody>\n",
       "</table>\n",
       "</div>"
      ],
      "text/plain": [
       "   age  gender  height  weight  ap_hi  ap_lo  cholesterol  gluc  smoke  alco  \\\n",
       "0   50       2     168    62.0    110     80            1     1      0     0   \n",
       "1   55       1     156    85.0    140     90            3     1      0     0   \n",
       "2   52       1     165    64.0    130     70            3     1      0     0   \n",
       "3   48       2     169    82.0    150    100            1     1      0     0   \n",
       "4   48       1     156    56.0    100     60            1     1      0     0   \n",
       "\n",
       "   active  cardio        bmi  \n",
       "0       1       0  21.967120  \n",
       "1       1       1  34.927679  \n",
       "2       0       1  23.507805  \n",
       "3       1       1  28.710479  \n",
       "4       0       0  23.011177  "
      ]
     },
     "execution_count": 43,
     "metadata": {},
     "output_type": "execute_result"
    }
   ],
   "source": [
    "data.head()"
   ]
  },
  {
   "cell_type": "markdown",
   "id": "2146a8d6",
   "metadata": {},
   "source": [
    "For visualization purposes, we rename the categorical values in our dataset."
   ]
  },
  {
   "cell_type": "code",
   "execution_count": 44,
   "id": "22b5b1c3",
   "metadata": {},
   "outputs": [
    {
     "data": {
      "text/html": [
       "<div>\n",
       "<style scoped>\n",
       "    .dataframe tbody tr th:only-of-type {\n",
       "        vertical-align: middle;\n",
       "    }\n",
       "\n",
       "    .dataframe tbody tr th {\n",
       "        vertical-align: top;\n",
       "    }\n",
       "\n",
       "    .dataframe thead th {\n",
       "        text-align: right;\n",
       "    }\n",
       "</style>\n",
       "<table border=\"1\" class=\"dataframe\">\n",
       "  <thead>\n",
       "    <tr style=\"text-align: right;\">\n",
       "      <th></th>\n",
       "      <th>id</th>\n",
       "      <th>age</th>\n",
       "      <th>gender</th>\n",
       "      <th>height</th>\n",
       "      <th>weight</th>\n",
       "      <th>ap_hi</th>\n",
       "      <th>ap_lo</th>\n",
       "      <th>cholesterol</th>\n",
       "      <th>gluc</th>\n",
       "      <th>smoke</th>\n",
       "      <th>alco</th>\n",
       "      <th>active</th>\n",
       "      <th>cardio</th>\n",
       "    </tr>\n",
       "  </thead>\n",
       "  <tbody>\n",
       "    <tr>\n",
       "      <th>0</th>\n",
       "      <td>0</td>\n",
       "      <td>18393</td>\n",
       "      <td>2</td>\n",
       "      <td>168</td>\n",
       "      <td>62.0</td>\n",
       "      <td>110</td>\n",
       "      <td>80</td>\n",
       "      <td>1</td>\n",
       "      <td>1</td>\n",
       "      <td>0</td>\n",
       "      <td>0</td>\n",
       "      <td>1</td>\n",
       "      <td>0</td>\n",
       "    </tr>\n",
       "    <tr>\n",
       "      <th>1</th>\n",
       "      <td>1</td>\n",
       "      <td>20228</td>\n",
       "      <td>1</td>\n",
       "      <td>156</td>\n",
       "      <td>85.0</td>\n",
       "      <td>140</td>\n",
       "      <td>90</td>\n",
       "      <td>3</td>\n",
       "      <td>1</td>\n",
       "      <td>0</td>\n",
       "      <td>0</td>\n",
       "      <td>1</td>\n",
       "      <td>1</td>\n",
       "    </tr>\n",
       "    <tr>\n",
       "      <th>2</th>\n",
       "      <td>2</td>\n",
       "      <td>18857</td>\n",
       "      <td>1</td>\n",
       "      <td>165</td>\n",
       "      <td>64.0</td>\n",
       "      <td>130</td>\n",
       "      <td>70</td>\n",
       "      <td>3</td>\n",
       "      <td>1</td>\n",
       "      <td>0</td>\n",
       "      <td>0</td>\n",
       "      <td>0</td>\n",
       "      <td>1</td>\n",
       "    </tr>\n",
       "    <tr>\n",
       "      <th>3</th>\n",
       "      <td>3</td>\n",
       "      <td>17623</td>\n",
       "      <td>2</td>\n",
       "      <td>169</td>\n",
       "      <td>82.0</td>\n",
       "      <td>150</td>\n",
       "      <td>100</td>\n",
       "      <td>1</td>\n",
       "      <td>1</td>\n",
       "      <td>0</td>\n",
       "      <td>0</td>\n",
       "      <td>1</td>\n",
       "      <td>1</td>\n",
       "    </tr>\n",
       "    <tr>\n",
       "      <th>4</th>\n",
       "      <td>4</td>\n",
       "      <td>17474</td>\n",
       "      <td>1</td>\n",
       "      <td>156</td>\n",
       "      <td>56.0</td>\n",
       "      <td>100</td>\n",
       "      <td>60</td>\n",
       "      <td>1</td>\n",
       "      <td>1</td>\n",
       "      <td>0</td>\n",
       "      <td>0</td>\n",
       "      <td>0</td>\n",
       "      <td>0</td>\n",
       "    </tr>\n",
       "  </tbody>\n",
       "</table>\n",
       "</div>"
      ],
      "text/plain": [
       "   id    age  gender  height  weight  ap_hi  ap_lo  cholesterol  gluc  smoke  \\\n",
       "0   0  18393       2     168    62.0    110     80            1     1      0   \n",
       "1   1  20228       1     156    85.0    140     90            3     1      0   \n",
       "2   2  18857       1     165    64.0    130     70            3     1      0   \n",
       "3   3  17623       2     169    82.0    150    100            1     1      0   \n",
       "4   4  17474       1     156    56.0    100     60            1     1      0   \n",
       "\n",
       "   alco  active  cardio  \n",
       "0     0       1       0  \n",
       "1     0       1       1  \n",
       "2     0       0       1  \n",
       "3     0       1       1  \n",
       "4     0       0       0  "
      ]
     },
     "execution_count": 44,
     "metadata": {},
     "output_type": "execute_result"
    }
   ],
   "source": [
    "df.head()"
   ]
  },
  {
   "cell_type": "code",
   "execution_count": 45,
   "id": "16d8d96c",
   "metadata": {},
   "outputs": [],
   "source": [
    "columns = ['age', 'height', 'weight', 'ap_lo', 'ap_hi', 'bmi']"
   ]
  },
  {
   "cell_type": "code",
   "execution_count": 46,
   "id": "3b30e6c0",
   "metadata": {},
   "outputs": [
    {
     "name": "stdout",
     "output_type": "stream",
     "text": [
      "Error in callback <function flush_figures at 0x000001675C8E2E50> (for post_execute):\n"
     ]
    },
    {
     "ename": "KeyboardInterrupt",
     "evalue": "",
     "output_type": "error",
     "traceback": [
      "\u001b[1;31m---------------------------------------------------------------------------\u001b[0m",
      "\u001b[1;31mKeyboardInterrupt\u001b[0m                         Traceback (most recent call last)",
      "File \u001b[1;32m~\\anaconda3\\lib\\site-packages\\matplotlib_inline\\backend_inline.py:121\u001b[0m, in \u001b[0;36mflush_figures\u001b[1;34m()\u001b[0m\n\u001b[0;32m    118\u001b[0m \u001b[38;5;28;01mif\u001b[39;00m InlineBackend\u001b[38;5;241m.\u001b[39minstance()\u001b[38;5;241m.\u001b[39mclose_figures:\n\u001b[0;32m    119\u001b[0m     \u001b[38;5;66;03m# ignore the tracking, just draw and close all figures\u001b[39;00m\n\u001b[0;32m    120\u001b[0m     \u001b[38;5;28;01mtry\u001b[39;00m:\n\u001b[1;32m--> 121\u001b[0m         \u001b[38;5;28;01mreturn\u001b[39;00m \u001b[43mshow\u001b[49m\u001b[43m(\u001b[49m\u001b[38;5;28;43;01mTrue\u001b[39;49;00m\u001b[43m)\u001b[49m\n\u001b[0;32m    122\u001b[0m     \u001b[38;5;28;01mexcept\u001b[39;00m \u001b[38;5;167;01mException\u001b[39;00m \u001b[38;5;28;01mas\u001b[39;00m e:\n\u001b[0;32m    123\u001b[0m         \u001b[38;5;66;03m# safely show traceback if in IPython, else raise\u001b[39;00m\n\u001b[0;32m    124\u001b[0m         ip \u001b[38;5;241m=\u001b[39m get_ipython()\n",
      "File \u001b[1;32m~\\anaconda3\\lib\\site-packages\\matplotlib_inline\\backend_inline.py:41\u001b[0m, in \u001b[0;36mshow\u001b[1;34m(close, block)\u001b[0m\n\u001b[0;32m     39\u001b[0m \u001b[38;5;28;01mtry\u001b[39;00m:\n\u001b[0;32m     40\u001b[0m     \u001b[38;5;28;01mfor\u001b[39;00m figure_manager \u001b[38;5;129;01min\u001b[39;00m Gcf\u001b[38;5;241m.\u001b[39mget_all_fig_managers():\n\u001b[1;32m---> 41\u001b[0m         \u001b[43mdisplay\u001b[49m\u001b[43m(\u001b[49m\n\u001b[0;32m     42\u001b[0m \u001b[43m            \u001b[49m\u001b[43mfigure_manager\u001b[49m\u001b[38;5;241;43m.\u001b[39;49m\u001b[43mcanvas\u001b[49m\u001b[38;5;241;43m.\u001b[39;49m\u001b[43mfigure\u001b[49m\u001b[43m,\u001b[49m\n\u001b[0;32m     43\u001b[0m \u001b[43m            \u001b[49m\u001b[43mmetadata\u001b[49m\u001b[38;5;241;43m=\u001b[39;49m\u001b[43m_fetch_figure_metadata\u001b[49m\u001b[43m(\u001b[49m\u001b[43mfigure_manager\u001b[49m\u001b[38;5;241;43m.\u001b[39;49m\u001b[43mcanvas\u001b[49m\u001b[38;5;241;43m.\u001b[39;49m\u001b[43mfigure\u001b[49m\u001b[43m)\u001b[49m\n\u001b[0;32m     44\u001b[0m \u001b[43m        \u001b[49m\u001b[43m)\u001b[49m\n\u001b[0;32m     45\u001b[0m \u001b[38;5;28;01mfinally\u001b[39;00m:\n\u001b[0;32m     46\u001b[0m     show\u001b[38;5;241m.\u001b[39m_to_draw \u001b[38;5;241m=\u001b[39m []\n",
      "File \u001b[1;32m~\\anaconda3\\lib\\site-packages\\IPython\\core\\display_functions.py:298\u001b[0m, in \u001b[0;36mdisplay\u001b[1;34m(include, exclude, metadata, transient, display_id, raw, clear, *objs, **kwargs)\u001b[0m\n\u001b[0;32m    296\u001b[0m     publish_display_data(data\u001b[38;5;241m=\u001b[39mobj, metadata\u001b[38;5;241m=\u001b[39mmetadata, \u001b[38;5;241m*\u001b[39m\u001b[38;5;241m*\u001b[39mkwargs)\n\u001b[0;32m    297\u001b[0m \u001b[38;5;28;01melse\u001b[39;00m:\n\u001b[1;32m--> 298\u001b[0m     format_dict, md_dict \u001b[38;5;241m=\u001b[39m \u001b[38;5;28;43mformat\u001b[39;49m\u001b[43m(\u001b[49m\u001b[43mobj\u001b[49m\u001b[43m,\u001b[49m\u001b[43m \u001b[49m\u001b[43minclude\u001b[49m\u001b[38;5;241;43m=\u001b[39;49m\u001b[43minclude\u001b[49m\u001b[43m,\u001b[49m\u001b[43m \u001b[49m\u001b[43mexclude\u001b[49m\u001b[38;5;241;43m=\u001b[39;49m\u001b[43mexclude\u001b[49m\u001b[43m)\u001b[49m\n\u001b[0;32m    299\u001b[0m     \u001b[38;5;28;01mif\u001b[39;00m \u001b[38;5;129;01mnot\u001b[39;00m format_dict:\n\u001b[0;32m    300\u001b[0m         \u001b[38;5;66;03m# nothing to display (e.g. _ipython_display_ took over)\u001b[39;00m\n\u001b[0;32m    301\u001b[0m         \u001b[38;5;28;01mcontinue\u001b[39;00m\n",
      "File \u001b[1;32m~\\anaconda3\\lib\\site-packages\\IPython\\core\\formatters.py:178\u001b[0m, in \u001b[0;36mDisplayFormatter.format\u001b[1;34m(self, obj, include, exclude)\u001b[0m\n\u001b[0;32m    176\u001b[0m md \u001b[38;5;241m=\u001b[39m \u001b[38;5;28;01mNone\u001b[39;00m\n\u001b[0;32m    177\u001b[0m \u001b[38;5;28;01mtry\u001b[39;00m:\n\u001b[1;32m--> 178\u001b[0m     data \u001b[38;5;241m=\u001b[39m \u001b[43mformatter\u001b[49m\u001b[43m(\u001b[49m\u001b[43mobj\u001b[49m\u001b[43m)\u001b[49m\n\u001b[0;32m    179\u001b[0m \u001b[38;5;28;01mexcept\u001b[39;00m:\n\u001b[0;32m    180\u001b[0m     \u001b[38;5;66;03m# FIXME: log the exception\u001b[39;00m\n\u001b[0;32m    181\u001b[0m     \u001b[38;5;28;01mraise\u001b[39;00m\n",
      "File \u001b[1;32m~\\anaconda3\\lib\\site-packages\\decorator.py:232\u001b[0m, in \u001b[0;36mdecorate.<locals>.fun\u001b[1;34m(*args, **kw)\u001b[0m\n\u001b[0;32m    230\u001b[0m \u001b[38;5;28;01mif\u001b[39;00m \u001b[38;5;129;01mnot\u001b[39;00m kwsyntax:\n\u001b[0;32m    231\u001b[0m     args, kw \u001b[38;5;241m=\u001b[39m fix(args, kw, sig)\n\u001b[1;32m--> 232\u001b[0m \u001b[38;5;28;01mreturn\u001b[39;00m caller(func, \u001b[38;5;241m*\u001b[39m(extras \u001b[38;5;241m+\u001b[39m args), \u001b[38;5;241m*\u001b[39m\u001b[38;5;241m*\u001b[39mkw)\n",
      "File \u001b[1;32m~\\anaconda3\\lib\\site-packages\\IPython\\core\\formatters.py:222\u001b[0m, in \u001b[0;36mcatch_format_error\u001b[1;34m(method, self, *args, **kwargs)\u001b[0m\n\u001b[0;32m    220\u001b[0m \u001b[38;5;124;03m\"\"\"show traceback on failed format call\"\"\"\u001b[39;00m\n\u001b[0;32m    221\u001b[0m \u001b[38;5;28;01mtry\u001b[39;00m:\n\u001b[1;32m--> 222\u001b[0m     r \u001b[38;5;241m=\u001b[39m method(\u001b[38;5;28mself\u001b[39m, \u001b[38;5;241m*\u001b[39margs, \u001b[38;5;241m*\u001b[39m\u001b[38;5;241m*\u001b[39mkwargs)\n\u001b[0;32m    223\u001b[0m \u001b[38;5;28;01mexcept\u001b[39;00m \u001b[38;5;167;01mNotImplementedError\u001b[39;00m:\n\u001b[0;32m    224\u001b[0m     \u001b[38;5;66;03m# don't warn on NotImplementedErrors\u001b[39;00m\n\u001b[0;32m    225\u001b[0m     \u001b[38;5;28;01mreturn\u001b[39;00m \u001b[38;5;28mself\u001b[39m\u001b[38;5;241m.\u001b[39m_check_return(\u001b[38;5;28;01mNone\u001b[39;00m, args[\u001b[38;5;241m0\u001b[39m])\n",
      "File \u001b[1;32m~\\anaconda3\\lib\\site-packages\\IPython\\core\\formatters.py:339\u001b[0m, in \u001b[0;36mBaseFormatter.__call__\u001b[1;34m(self, obj)\u001b[0m\n\u001b[0;32m    337\u001b[0m     \u001b[38;5;28;01mpass\u001b[39;00m\n\u001b[0;32m    338\u001b[0m \u001b[38;5;28;01melse\u001b[39;00m:\n\u001b[1;32m--> 339\u001b[0m     \u001b[38;5;28;01mreturn\u001b[39;00m \u001b[43mprinter\u001b[49m\u001b[43m(\u001b[49m\u001b[43mobj\u001b[49m\u001b[43m)\u001b[49m\n\u001b[0;32m    340\u001b[0m \u001b[38;5;66;03m# Finally look for special method names\u001b[39;00m\n\u001b[0;32m    341\u001b[0m method \u001b[38;5;241m=\u001b[39m get_real_method(obj, \u001b[38;5;28mself\u001b[39m\u001b[38;5;241m.\u001b[39mprint_method)\n",
      "File \u001b[1;32m~\\anaconda3\\lib\\site-packages\\IPython\\core\\pylabtools.py:151\u001b[0m, in \u001b[0;36mprint_figure\u001b[1;34m(fig, fmt, bbox_inches, base64, **kwargs)\u001b[0m\n\u001b[0;32m    148\u001b[0m     \u001b[38;5;28;01mfrom\u001b[39;00m \u001b[38;5;21;01mmatplotlib\u001b[39;00m\u001b[38;5;21;01m.\u001b[39;00m\u001b[38;5;21;01mbackend_bases\u001b[39;00m \u001b[38;5;28;01mimport\u001b[39;00m FigureCanvasBase\n\u001b[0;32m    149\u001b[0m     FigureCanvasBase(fig)\n\u001b[1;32m--> 151\u001b[0m fig\u001b[38;5;241m.\u001b[39mcanvas\u001b[38;5;241m.\u001b[39mprint_figure(bytes_io, \u001b[38;5;241m*\u001b[39m\u001b[38;5;241m*\u001b[39mkw)\n\u001b[0;32m    152\u001b[0m data \u001b[38;5;241m=\u001b[39m bytes_io\u001b[38;5;241m.\u001b[39mgetvalue()\n\u001b[0;32m    153\u001b[0m \u001b[38;5;28;01mif\u001b[39;00m fmt \u001b[38;5;241m==\u001b[39m \u001b[38;5;124m'\u001b[39m\u001b[38;5;124msvg\u001b[39m\u001b[38;5;124m'\u001b[39m:\n",
      "File \u001b[1;32m~\\anaconda3\\lib\\site-packages\\matplotlib\\backend_bases.py:2299\u001b[0m, in \u001b[0;36mFigureCanvasBase.print_figure\u001b[1;34m(self, filename, dpi, facecolor, edgecolor, orientation, format, bbox_inches, pad_inches, bbox_extra_artists, backend, **kwargs)\u001b[0m\n\u001b[0;32m   2297\u001b[0m \u001b[38;5;28;01mif\u001b[39;00m bbox_inches:\n\u001b[0;32m   2298\u001b[0m     \u001b[38;5;28;01mif\u001b[39;00m bbox_inches \u001b[38;5;241m==\u001b[39m \u001b[38;5;124m\"\u001b[39m\u001b[38;5;124mtight\u001b[39m\u001b[38;5;124m\"\u001b[39m:\n\u001b[1;32m-> 2299\u001b[0m         bbox_inches \u001b[38;5;241m=\u001b[39m \u001b[38;5;28;43mself\u001b[39;49m\u001b[38;5;241;43m.\u001b[39;49m\u001b[43mfigure\u001b[49m\u001b[38;5;241;43m.\u001b[39;49m\u001b[43mget_tightbbox\u001b[49m\u001b[43m(\u001b[49m\n\u001b[0;32m   2300\u001b[0m \u001b[43m            \u001b[49m\u001b[43mrenderer\u001b[49m\u001b[43m,\u001b[49m\u001b[43m \u001b[49m\u001b[43mbbox_extra_artists\u001b[49m\u001b[38;5;241;43m=\u001b[39;49m\u001b[43mbbox_extra_artists\u001b[49m\u001b[43m)\u001b[49m\n\u001b[0;32m   2301\u001b[0m         \u001b[38;5;28;01mif\u001b[39;00m pad_inches \u001b[38;5;129;01mis\u001b[39;00m \u001b[38;5;28;01mNone\u001b[39;00m:\n\u001b[0;32m   2302\u001b[0m             pad_inches \u001b[38;5;241m=\u001b[39m rcParams[\u001b[38;5;124m'\u001b[39m\u001b[38;5;124msavefig.pad_inches\u001b[39m\u001b[38;5;124m'\u001b[39m]\n",
      "File \u001b[1;32m~\\anaconda3\\lib\\site-packages\\matplotlib\\figure.py:1632\u001b[0m, in \u001b[0;36mFigureBase.get_tightbbox\u001b[1;34m(self, renderer, bbox_extra_artists)\u001b[0m\n\u001b[0;32m   1629\u001b[0m     artists \u001b[38;5;241m=\u001b[39m bbox_extra_artists\n\u001b[0;32m   1631\u001b[0m \u001b[38;5;28;01mfor\u001b[39;00m a \u001b[38;5;129;01min\u001b[39;00m artists:\n\u001b[1;32m-> 1632\u001b[0m     bbox \u001b[38;5;241m=\u001b[39m \u001b[43ma\u001b[49m\u001b[38;5;241;43m.\u001b[39;49m\u001b[43mget_tightbbox\u001b[49m\u001b[43m(\u001b[49m\u001b[43mrenderer\u001b[49m\u001b[43m)\u001b[49m\n\u001b[0;32m   1633\u001b[0m     \u001b[38;5;28;01mif\u001b[39;00m bbox \u001b[38;5;129;01mis\u001b[39;00m \u001b[38;5;129;01mnot\u001b[39;00m \u001b[38;5;28;01mNone\u001b[39;00m \u001b[38;5;129;01mand\u001b[39;00m (bbox\u001b[38;5;241m.\u001b[39mwidth \u001b[38;5;241m!=\u001b[39m \u001b[38;5;241m0\u001b[39m \u001b[38;5;129;01mor\u001b[39;00m bbox\u001b[38;5;241m.\u001b[39mheight \u001b[38;5;241m!=\u001b[39m \u001b[38;5;241m0\u001b[39m):\n\u001b[0;32m   1634\u001b[0m         bb\u001b[38;5;241m.\u001b[39mappend(bbox)\n",
      "File \u001b[1;32m~\\anaconda3\\lib\\site-packages\\matplotlib\\artist.py:355\u001b[0m, in \u001b[0;36mArtist.get_tightbbox\u001b[1;34m(self, renderer)\u001b[0m\n\u001b[0;32m    340\u001b[0m \u001b[38;5;28;01mdef\u001b[39;00m \u001b[38;5;21mget_tightbbox\u001b[39m(\u001b[38;5;28mself\u001b[39m, renderer):\n\u001b[0;32m    341\u001b[0m     \u001b[38;5;124;03m\"\"\"\u001b[39;00m\n\u001b[0;32m    342\u001b[0m \u001b[38;5;124;03m    Like `.Artist.get_window_extent`, but includes any clipping.\u001b[39;00m\n\u001b[0;32m    343\u001b[0m \n\u001b[1;32m   (...)\u001b[0m\n\u001b[0;32m    353\u001b[0m \u001b[38;5;124;03m        The enclosing bounding box (in figure pixel coordinates).\u001b[39;00m\n\u001b[0;32m    354\u001b[0m \u001b[38;5;124;03m    \"\"\"\u001b[39;00m\n\u001b[1;32m--> 355\u001b[0m     bbox \u001b[38;5;241m=\u001b[39m \u001b[38;5;28;43mself\u001b[39;49m\u001b[38;5;241;43m.\u001b[39;49m\u001b[43mget_window_extent\u001b[49m\u001b[43m(\u001b[49m\u001b[43mrenderer\u001b[49m\u001b[43m)\u001b[49m\n\u001b[0;32m    356\u001b[0m     \u001b[38;5;28;01mif\u001b[39;00m \u001b[38;5;28mself\u001b[39m\u001b[38;5;241m.\u001b[39mget_clip_on():\n\u001b[0;32m    357\u001b[0m         clip_box \u001b[38;5;241m=\u001b[39m \u001b[38;5;28mself\u001b[39m\u001b[38;5;241m.\u001b[39mget_clip_box()\n",
      "File \u001b[1;32m~\\anaconda3\\lib\\site-packages\\matplotlib\\patches.py:623\u001b[0m, in \u001b[0;36mPatch.get_window_extent\u001b[1;34m(self, renderer)\u001b[0m\n\u001b[0;32m    622\u001b[0m \u001b[38;5;28;01mdef\u001b[39;00m \u001b[38;5;21mget_window_extent\u001b[39m(\u001b[38;5;28mself\u001b[39m, renderer\u001b[38;5;241m=\u001b[39m\u001b[38;5;28;01mNone\u001b[39;00m):\n\u001b[1;32m--> 623\u001b[0m     \u001b[38;5;28;01mreturn\u001b[39;00m \u001b[38;5;28;43mself\u001b[39;49m\u001b[38;5;241;43m.\u001b[39;49m\u001b[43mget_path\u001b[49m\u001b[43m(\u001b[49m\u001b[43m)\u001b[49m\u001b[38;5;241;43m.\u001b[39;49m\u001b[43mget_extents\u001b[49m\u001b[43m(\u001b[49m\u001b[38;5;28;43mself\u001b[39;49m\u001b[38;5;241;43m.\u001b[39;49m\u001b[43mget_transform\u001b[49m\u001b[43m(\u001b[49m\u001b[43m)\u001b[49m\u001b[43m)\u001b[49m\n",
      "File \u001b[1;32m~\\anaconda3\\lib\\site-packages\\matplotlib\\path.py:617\u001b[0m, in \u001b[0;36mPath.get_extents\u001b[1;34m(self, transform, **kwargs)\u001b[0m\n\u001b[0;32m    615\u001b[0m \u001b[38;5;28;01mif\u001b[39;00m \u001b[38;5;28mself\u001b[39m\u001b[38;5;241m.\u001b[39mcodes \u001b[38;5;129;01mis\u001b[39;00m \u001b[38;5;28;01mNone\u001b[39;00m:\n\u001b[0;32m    616\u001b[0m     xys \u001b[38;5;241m=\u001b[39m \u001b[38;5;28mself\u001b[39m\u001b[38;5;241m.\u001b[39mvertices\n\u001b[1;32m--> 617\u001b[0m \u001b[38;5;28;01melif\u001b[39;00m \u001b[38;5;28mlen\u001b[39m(\u001b[43mnp\u001b[49m\u001b[38;5;241;43m.\u001b[39;49m\u001b[43mintersect1d\u001b[49m\u001b[43m(\u001b[49m\u001b[38;5;28;43mself\u001b[39;49m\u001b[38;5;241;43m.\u001b[39;49m\u001b[43mcodes\u001b[49m\u001b[43m,\u001b[49m\u001b[43m \u001b[49m\u001b[43m[\u001b[49m\u001b[43mPath\u001b[49m\u001b[38;5;241;43m.\u001b[39;49m\u001b[43mCURVE3\u001b[49m\u001b[43m,\u001b[49m\u001b[43m \u001b[49m\u001b[43mPath\u001b[49m\u001b[38;5;241;43m.\u001b[39;49m\u001b[43mCURVE4\u001b[49m\u001b[43m]\u001b[49m\u001b[43m)\u001b[49m) \u001b[38;5;241m==\u001b[39m \u001b[38;5;241m0\u001b[39m:\n\u001b[0;32m    618\u001b[0m     \u001b[38;5;66;03m# Optimization for the straight line case.\u001b[39;00m\n\u001b[0;32m    619\u001b[0m     \u001b[38;5;66;03m# Instead of iterating through each curve, consider\u001b[39;00m\n\u001b[0;32m    620\u001b[0m     \u001b[38;5;66;03m# each line segment's end-points\u001b[39;00m\n\u001b[0;32m    621\u001b[0m     \u001b[38;5;66;03m# (recall that STOP and CLOSEPOLY vertices are ignored)\u001b[39;00m\n\u001b[0;32m    622\u001b[0m     xys \u001b[38;5;241m=\u001b[39m \u001b[38;5;28mself\u001b[39m\u001b[38;5;241m.\u001b[39mvertices[np\u001b[38;5;241m.\u001b[39misin(\u001b[38;5;28mself\u001b[39m\u001b[38;5;241m.\u001b[39mcodes,\n\u001b[0;32m    623\u001b[0m                                 [Path\u001b[38;5;241m.\u001b[39mMOVETO, Path\u001b[38;5;241m.\u001b[39mLINETO])]\n\u001b[0;32m    624\u001b[0m \u001b[38;5;28;01melse\u001b[39;00m:\n",
      "File \u001b[1;32m<__array_function__ internals>:5\u001b[0m, in \u001b[0;36mintersect1d\u001b[1;34m(*args, **kwargs)\u001b[0m\n",
      "File \u001b[1;32m~\\anaconda3\\lib\\site-packages\\numpy\\lib\\arraysetops.py:440\u001b[0m, in \u001b[0;36mintersect1d\u001b[1;34m(ar1, ar2, assume_unique, return_indices)\u001b[0m\n\u001b[0;32m    438\u001b[0m         ar2, ind2 \u001b[38;5;241m=\u001b[39m unique(ar2, return_index\u001b[38;5;241m=\u001b[39m\u001b[38;5;28;01mTrue\u001b[39;00m)\n\u001b[0;32m    439\u001b[0m     \u001b[38;5;28;01melse\u001b[39;00m:\n\u001b[1;32m--> 440\u001b[0m         ar1 \u001b[38;5;241m=\u001b[39m \u001b[43munique\u001b[49m\u001b[43m(\u001b[49m\u001b[43mar1\u001b[49m\u001b[43m)\u001b[49m\n\u001b[0;32m    441\u001b[0m         ar2 \u001b[38;5;241m=\u001b[39m unique(ar2)\n\u001b[0;32m    442\u001b[0m \u001b[38;5;28;01melse\u001b[39;00m:\n",
      "File \u001b[1;32m<__array_function__ internals>:5\u001b[0m, in \u001b[0;36munique\u001b[1;34m(*args, **kwargs)\u001b[0m\n",
      "File \u001b[1;32m~\\anaconda3\\lib\\site-packages\\numpy\\lib\\arraysetops.py:272\u001b[0m, in \u001b[0;36munique\u001b[1;34m(ar, return_index, return_inverse, return_counts, axis)\u001b[0m\n\u001b[0;32m    270\u001b[0m ar \u001b[38;5;241m=\u001b[39m np\u001b[38;5;241m.\u001b[39masanyarray(ar)\n\u001b[0;32m    271\u001b[0m \u001b[38;5;28;01mif\u001b[39;00m axis \u001b[38;5;129;01mis\u001b[39;00m \u001b[38;5;28;01mNone\u001b[39;00m:\n\u001b[1;32m--> 272\u001b[0m     ret \u001b[38;5;241m=\u001b[39m \u001b[43m_unique1d\u001b[49m\u001b[43m(\u001b[49m\u001b[43mar\u001b[49m\u001b[43m,\u001b[49m\u001b[43m \u001b[49m\u001b[43mreturn_index\u001b[49m\u001b[43m,\u001b[49m\u001b[43m \u001b[49m\u001b[43mreturn_inverse\u001b[49m\u001b[43m,\u001b[49m\u001b[43m \u001b[49m\u001b[43mreturn_counts\u001b[49m\u001b[43m)\u001b[49m\n\u001b[0;32m    273\u001b[0m     \u001b[38;5;28;01mreturn\u001b[39;00m _unpack_tuple(ret)\n\u001b[0;32m    275\u001b[0m \u001b[38;5;66;03m# axis was specified and not None\u001b[39;00m\n",
      "File \u001b[1;32m~\\anaconda3\\lib\\site-packages\\numpy\\lib\\arraysetops.py:348\u001b[0m, in \u001b[0;36m_unique1d\u001b[1;34m(ar, return_index, return_inverse, return_counts)\u001b[0m\n\u001b[0;32m    346\u001b[0m     mask[aux_firstnan \u001b[38;5;241m+\u001b[39m \u001b[38;5;241m1\u001b[39m:] \u001b[38;5;241m=\u001b[39m \u001b[38;5;28;01mFalse\u001b[39;00m\n\u001b[0;32m    347\u001b[0m \u001b[38;5;28;01melse\u001b[39;00m:\n\u001b[1;32m--> 348\u001b[0m     mask[\u001b[38;5;241m1\u001b[39m:] \u001b[38;5;241m=\u001b[39m aux[\u001b[38;5;241m1\u001b[39m:] \u001b[38;5;241m!=\u001b[39m aux[:\u001b[38;5;241m-\u001b[39m\u001b[38;5;241m1\u001b[39m]\n\u001b[0;32m    350\u001b[0m ret \u001b[38;5;241m=\u001b[39m (aux[mask],)\n\u001b[0;32m    351\u001b[0m \u001b[38;5;28;01mif\u001b[39;00m return_index:\n",
      "\u001b[1;31mKeyboardInterrupt\u001b[0m: "
     ]
    }
   ],
   "source": [
    "plt.figure(figsize=(25, 15))\n",
    "for i, col in enumerate(columns):\n",
    "#     print(i, col)\n",
    "    ax = plt.subplot(4,3, i+1)\n",
    "    sns.histplot(data=data, x=col, ax=ax,color='blue',kde=True)\n",
    "    plt.suptitle('Data distribution')\n",
    "    plt.tight_layout()"
   ]
  },
  {
   "cell_type": "code",
   "execution_count": 48,
   "id": "05b0a14d",
   "metadata": {},
   "outputs": [
    {
     "name": "stdout",
     "output_type": "stream",
     "text": [
      "age :  0\n",
      "height :  0\n",
      "weight :  0\n",
      "ap_lo :  1\n",
      "ap_hi :  0\n",
      "bmi :  0\n"
     ]
    }
   ],
   "source": [
    "for col in columns:\n",
    "    column = data[col]\n",
    "    count = (column < 0).sum()\n",
    "    print(col, ': ', count)"
   ]
  },
  {
   "cell_type": "markdown",
   "id": "a70562fc",
   "metadata": {},
   "source": [
    "There is one negative values in ap_lo, diastolic bp cannot be negative. Eliminating this value."
   ]
  },
  {
   "cell_type": "code",
   "execution_count": 49,
   "id": "b26fbd69",
   "metadata": {},
   "outputs": [],
   "source": [
    "data = data.drop(data[data['ap_lo'] < 0].index)"
   ]
  },
  {
   "cell_type": "code",
   "execution_count": 50,
   "id": "d5c8eabc",
   "metadata": {},
   "outputs": [
    {
     "data": {
      "text/plain": [
       "(68741, 13)"
      ]
     },
     "execution_count": 50,
     "metadata": {},
     "output_type": "execute_result"
    }
   ],
   "source": [
    "data.shape"
   ]
  },
  {
   "cell_type": "markdown",
   "id": "ddc2c41d",
   "metadata": {},
   "source": [
    "Systolic bp cannot be lower than 70 and higher than 200, diastolic bp cannot be less than 40 and more than 130. We remove the values which do not pass this criteria."
   ]
  },
  {
   "cell_type": "code",
   "execution_count": 51,
   "id": "403b7b01",
   "metadata": {},
   "outputs": [],
   "source": [
    "data.drop(data[(data.ap_hi < 70) | (data.ap_hi > 200)].index, inplace = True)\n",
    "data.drop(data[(data.ap_lo < 40) | (data.ap_lo > 130)].index, inplace = True)"
   ]
  },
  {
   "cell_type": "code",
   "execution_count": 52,
   "id": "9e7c097f",
   "metadata": {},
   "outputs": [
    {
     "data": {
      "text/plain": [
       "(68582, 13)"
      ]
     },
     "execution_count": 52,
     "metadata": {},
     "output_type": "execute_result"
    }
   ],
   "source": [
    "data.shape"
   ]
  },
  {
   "cell_type": "code",
   "execution_count": null,
   "id": "64e26004",
   "metadata": {},
   "outputs": [],
   "source": []
  },
  {
   "cell_type": "code",
   "execution_count": 53,
   "id": "e8c975ef",
   "metadata": {},
   "outputs": [],
   "source": [
    "df = data.copy(deep = True)\n",
    "\n",
    "df['gender'].replace({1: 'woman', 2: 'man'}, inplace = True)\n",
    "df['cholesterol'].replace({1: 'normal', 2: 'above normal', 3: 'well above normal'}, inplace = True)\n",
    "df['gluc'].replace({1: 'normal', 2: 'above normal', 3: 'well above normal'}, inplace = True)\n",
    "df['smoke'].replace({0: 'No', 1: 'Yes'}, inplace = True)\n",
    "df['alco'].replace({0: 'No', 1: 'Yes'}, inplace = True)\n",
    "df['active'].replace({0: 'No', 1: 'Yes'}, inplace = True)\n",
    "df['cardio'].replace({0: 'No', 1: 'Yes'}, inplace = True)"
   ]
  },
  {
   "cell_type": "code",
   "execution_count": 54,
   "id": "494ad913",
   "metadata": {},
   "outputs": [
    {
     "data": {
      "text/plain": [
       "<matplotlib.legend.Legend at 0x1677dce6100>"
      ]
     },
     "execution_count": 54,
     "metadata": {},
     "output_type": "execute_result"
    },
    {
     "data": {
      "image/png": "[encoded data removed]",
      "text/plain": [
       "<Figure size 1800x1080 with 2 Axes>"
      ]
     },
     "metadata": {
      "needs_background": "light"
     },
     "output_type": "display_data"
    }
   ],
   "source": [
    "plt.figure(figsize =(25,15))\n",
    "ax = plt.subplot(4,3, 1)\n",
    "ax = df.groupby('cardio')['age'].plot(kind='kde', legend=True)\n",
    "plt.title('CVD diagnosis based on age')\n",
    "plt.xlabel('Age')\n",
    "plt.legend(title=\"CVD\")\n",
    "\n",
    "ax = plt.subplot(4,3, 2)\n",
    "ax = df.groupby('cardio')['bmi'].plot(kind='kde', legend=True)\n",
    "plt.title('CVD diagnosis based on body mass index')\n",
    "plt.xlabel('body mass index')\n",
    "plt.legend(title=\"CVD\")"
   ]
  },
  {
   "cell_type": "code",
   "execution_count": 55,
   "id": "af63d7bc",
   "metadata": {},
   "outputs": [
    {
     "data": {
      "text/plain": [
       "Text(0.5, 1.0, 'cardiovascluar disease presence with age')"
      ]
     },
     "execution_count": 55,
     "metadata": {},
     "output_type": "execute_result"
    },
    {
     "data": {
      "image/png": "[encoded data removed]",
      "text/plain": [
       "<Figure size 720x504 with 1 Axes>"
      ]
     },
     "metadata": {
      "needs_background": "light"
     },
     "output_type": "display_data"
    }
   ],
   "source": [
    "palette = {'No': '#377EB8', 'Yes': '#E41A1C'}\n",
    "plt.figure(figsize=(10,7))\n",
    "sns.histplot(data = df, x = 'age', hue = 'cardio', binwidth = 1, palette = palette, stat = 'count', alpha = 0.5)\n",
    "plt.title(\"cardiovascluar disease presence with age\")"
   ]
  },
  {
   "cell_type": "code",
   "execution_count": 56,
   "id": "c5ea0800",
   "metadata": {},
   "outputs": [
    {
     "data": {
      "text/plain": [
       "Text(0.5, 1.0, 'cardiovascluar disease presence with age')"
      ]
     },
     "execution_count": 56,
     "metadata": {},
     "output_type": "execute_result"
    },
    {
     "data": {
      "image/png": "[encoded data removed]",
      "text/plain": [
       "<Figure size 504x360 with 1 Axes>"
      ]
     },
     "metadata": {
      "needs_background": "light"
     },
     "output_type": "display_data"
    }
   ],
   "source": [
    "plt.figure(figsize=(7,5))\n",
    "sns.countplot(data = df, x = 'cardio', hue = 'gender')\n",
    "plt.title(\"cardiovascluar disease presence with age\")"
   ]
  },
  {
   "cell_type": "markdown",
   "id": "52a147d8",
   "metadata": {},
   "source": [
    "From the above graphs,\n",
    "* the people who are much older have more chances of having cardio vascular disease. people in the age range 55 to 65.\n",
    "* from age 40 to 50, it is less likely to have CVD.\n",
    "* The dataset reflects \"woman\" in about 65% of the cases, and \"men\" in the remaining 35%. However, the proportions of those with disease and those without it are roughly identical in both groups."
   ]
  },
  {
   "cell_type": "code",
   "execution_count": 57,
   "id": "5e72ce8d",
   "metadata": {},
   "outputs": [
    {
     "data": {
      "image/png": "[encoded data removed]",
      "text/plain": [
       "<Figure size 576x360 with 2 Axes>"
      ]
     },
     "metadata": {
      "needs_background": "light"
     },
     "output_type": "display_data"
    }
   ],
   "source": [
    "# heatmap for correlation\n",
    "plt.figure(figsize = (8, 5))\n",
    "plt.title('Correlation Matrix for Independent Variables', fontsize = 16, y = 1.05)\n",
    "\n",
    "sns.heatmap(df[columns].corr(), annot = True, cmap = 'Reds');"
   ]
  },
  {
   "cell_type": "code",
   "execution_count": null,
   "id": "762df471",
   "metadata": {},
   "outputs": [],
   "source": [
    "data.head()"
   ]
  },
  {
   "cell_type": "code",
   "execution_count": 27,
   "id": "faaf19dc",
   "metadata": {},
   "outputs": [
    {
     "data": {
      "text/plain": [
       "(68582, 13)"
      ]
     },
     "execution_count": 27,
     "metadata": {},
     "output_type": "execute_result"
    }
   ],
   "source": [
    "data.shape"
   ]
  },
  {
   "cell_type": "markdown",
   "id": "5fdae62d",
   "metadata": {},
   "source": [
    "Compared to the shape of the dataset, the outliers detected above can be removed instead of imputing them with any values such as mean, 5th and 95th percentile values and so on."
   ]
  },
  {
   "cell_type": "code",
   "execution_count": 58,
   "id": "fd1dff46",
   "metadata": {},
   "outputs": [
    {
     "name": "stdout",
     "output_type": "stream",
     "text": [
      "Outliers in age: 4\n",
      "Outliers in height: 505\n",
      "Outliers in weight: 1738\n",
      "Outliers in ap_lo: 3445\n",
      "Outliers in ap_hi: 946\n",
      "Outliers in bmi: 2017\n"
     ]
    }
   ],
   "source": [
    "# Checking outliers - detecting and handling outliers only for the continuous features\n",
    "for col in columns:\n",
    "    q1 = data[col].quantile(0.25)\n",
    "    q3 = data[col].quantile(0.75)\n",
    "    IQR = q3-q1\n",
    "    min_Value = q1-1.5*IQR\n",
    "    max_Value = q3+1.5*IQR\n",
    "\n",
    "    outliers = []\n",
    "    for i in data[col]:\n",
    "        #print(i)\n",
    "        if i< min_Value or i>max_Value:\n",
    "            outliers.append(i)\n",
    "    print(f\"Outliers in {col}:\",len(outliers))\n",
    "    \n",
    "    df_out = data.loc[(data[col] > min_Value) & (data[col] < max_Value)]\n"
   ]
  },
  {
   "cell_type": "code",
   "execution_count": 59,
   "id": "79e28bc9",
   "metadata": {},
   "outputs": [
    {
     "data": {
      "text/plain": [
       "(66565, 13)"
      ]
     },
     "execution_count": 59,
     "metadata": {},
     "output_type": "execute_result"
    }
   ],
   "source": [
    "df_out.shape"
   ]
  },
  {
   "cell_type": "code",
   "execution_count": 60,
   "id": "5a34ee4c",
   "metadata": {},
   "outputs": [
    {
     "data": {
      "text/html": [
       "<div>\n",
       "<style scoped>\n",
       "    .dataframe tbody tr th:only-of-type {\n",
       "        vertical-align: middle;\n",
       "    }\n",
       "\n",
       "    .dataframe tbody tr th {\n",
       "        vertical-align: top;\n",
       "    }\n",
       "\n",
       "    .dataframe thead th {\n",
       "        text-align: right;\n",
       "    }\n",
       "</style>\n",
       "<table border=\"1\" class=\"dataframe\">\n",
       "  <thead>\n",
       "    <tr style=\"text-align: right;\">\n",
       "      <th></th>\n",
       "      <th>count</th>\n",
       "      <th>mean</th>\n",
       "      <th>std</th>\n",
       "      <th>min</th>\n",
       "      <th>25%</th>\n",
       "      <th>50%</th>\n",
       "      <th>75%</th>\n",
       "      <th>max</th>\n",
       "    </tr>\n",
       "  </thead>\n",
       "  <tbody>\n",
       "    <tr>\n",
       "      <th>age</th>\n",
       "      <td>66565.0</td>\n",
       "      <td>53.298655</td>\n",
       "      <td>6.774862</td>\n",
       "      <td>30.000000</td>\n",
       "      <td>48.00000</td>\n",
       "      <td>54.000000</td>\n",
       "      <td>58.0000</td>\n",
       "      <td>65.000000</td>\n",
       "    </tr>\n",
       "    <tr>\n",
       "      <th>gender</th>\n",
       "      <td>66565.0</td>\n",
       "      <td>1.354916</td>\n",
       "      <td>0.478492</td>\n",
       "      <td>1.000000</td>\n",
       "      <td>1.00000</td>\n",
       "      <td>1.000000</td>\n",
       "      <td>2.0000</td>\n",
       "      <td>2.000000</td>\n",
       "    </tr>\n",
       "    <tr>\n",
       "      <th>height</th>\n",
       "      <td>66565.0</td>\n",
       "      <td>164.577375</td>\n",
       "      <td>7.801307</td>\n",
       "      <td>120.000000</td>\n",
       "      <td>159.00000</td>\n",
       "      <td>165.000000</td>\n",
       "      <td>170.0000</td>\n",
       "      <td>207.000000</td>\n",
       "    </tr>\n",
       "    <tr>\n",
       "      <th>weight</th>\n",
       "      <td>66565.0</td>\n",
       "      <td>73.032437</td>\n",
       "      <td>12.711089</td>\n",
       "      <td>28.000000</td>\n",
       "      <td>64.00000</td>\n",
       "      <td>71.000000</td>\n",
       "      <td>80.0000</td>\n",
       "      <td>135.000000</td>\n",
       "    </tr>\n",
       "    <tr>\n",
       "      <th>ap_hi</th>\n",
       "      <td>66565.0</td>\n",
       "      <td>126.283933</td>\n",
       "      <td>16.311126</td>\n",
       "      <td>70.000000</td>\n",
       "      <td>120.00000</td>\n",
       "      <td>120.000000</td>\n",
       "      <td>140.0000</td>\n",
       "      <td>200.000000</td>\n",
       "    </tr>\n",
       "    <tr>\n",
       "      <th>ap_lo</th>\n",
       "      <td>66565.0</td>\n",
       "      <td>81.112612</td>\n",
       "      <td>9.266658</td>\n",
       "      <td>40.000000</td>\n",
       "      <td>80.00000</td>\n",
       "      <td>80.000000</td>\n",
       "      <td>90.0000</td>\n",
       "      <td>130.000000</td>\n",
       "    </tr>\n",
       "    <tr>\n",
       "      <th>cholesterol</th>\n",
       "      <td>66565.0</td>\n",
       "      <td>1.356358</td>\n",
       "      <td>0.672342</td>\n",
       "      <td>1.000000</td>\n",
       "      <td>1.00000</td>\n",
       "      <td>1.000000</td>\n",
       "      <td>1.0000</td>\n",
       "      <td>3.000000</td>\n",
       "    </tr>\n",
       "    <tr>\n",
       "      <th>gluc</th>\n",
       "      <td>66565.0</td>\n",
       "      <td>1.220191</td>\n",
       "      <td>0.566020</td>\n",
       "      <td>1.000000</td>\n",
       "      <td>1.00000</td>\n",
       "      <td>1.000000</td>\n",
       "      <td>1.0000</td>\n",
       "      <td>3.000000</td>\n",
       "    </tr>\n",
       "    <tr>\n",
       "      <th>smoke</th>\n",
       "      <td>66565.0</td>\n",
       "      <td>0.089011</td>\n",
       "      <td>0.284761</td>\n",
       "      <td>0.000000</td>\n",
       "      <td>0.00000</td>\n",
       "      <td>0.000000</td>\n",
       "      <td>0.0000</td>\n",
       "      <td>1.000000</td>\n",
       "    </tr>\n",
       "    <tr>\n",
       "      <th>alco</th>\n",
       "      <td>66565.0</td>\n",
       "      <td>0.053286</td>\n",
       "      <td>0.224605</td>\n",
       "      <td>0.000000</td>\n",
       "      <td>0.00000</td>\n",
       "      <td>0.000000</td>\n",
       "      <td>0.0000</td>\n",
       "      <td>1.000000</td>\n",
       "    </tr>\n",
       "    <tr>\n",
       "      <th>active</th>\n",
       "      <td>66565.0</td>\n",
       "      <td>0.804191</td>\n",
       "      <td>0.396825</td>\n",
       "      <td>0.000000</td>\n",
       "      <td>1.00000</td>\n",
       "      <td>1.000000</td>\n",
       "      <td>1.0000</td>\n",
       "      <td>1.000000</td>\n",
       "    </tr>\n",
       "    <tr>\n",
       "      <th>cardio</th>\n",
       "      <td>66565.0</td>\n",
       "      <td>0.488665</td>\n",
       "      <td>0.499875</td>\n",
       "      <td>0.000000</td>\n",
       "      <td>0.00000</td>\n",
       "      <td>0.000000</td>\n",
       "      <td>1.0000</td>\n",
       "      <td>1.000000</td>\n",
       "    </tr>\n",
       "    <tr>\n",
       "      <th>bmi</th>\n",
       "      <td>66565.0</td>\n",
       "      <td>26.972540</td>\n",
       "      <td>4.410616</td>\n",
       "      <td>14.524328</td>\n",
       "      <td>23.80869</td>\n",
       "      <td>26.171875</td>\n",
       "      <td>29.7442</td>\n",
       "      <td>39.476813</td>\n",
       "    </tr>\n",
       "  </tbody>\n",
       "</table>\n",
       "</div>"
      ],
      "text/plain": [
       "               count        mean        std         min        25%  \\\n",
       "age          66565.0   53.298655   6.774862   30.000000   48.00000   \n",
       "gender       66565.0    1.354916   0.478492    1.000000    1.00000   \n",
       "height       66565.0  164.577375   7.801307  120.000000  159.00000   \n",
       "weight       66565.0   73.032437  12.711089   28.000000   64.00000   \n",
       "ap_hi        66565.0  126.283933  16.311126   70.000000  120.00000   \n",
       "ap_lo        66565.0   81.112612   9.266658   40.000000   80.00000   \n",
       "cholesterol  66565.0    1.356358   0.672342    1.000000    1.00000   \n",
       "gluc         66565.0    1.220191   0.566020    1.000000    1.00000   \n",
       "smoke        66565.0    0.089011   0.284761    0.000000    0.00000   \n",
       "alco         66565.0    0.053286   0.224605    0.000000    0.00000   \n",
       "active       66565.0    0.804191   0.396825    0.000000    1.00000   \n",
       "cardio       66565.0    0.488665   0.499875    0.000000    0.00000   \n",
       "bmi          66565.0   26.972540   4.410616   14.524328   23.80869   \n",
       "\n",
       "                    50%       75%         max  \n",
       "age           54.000000   58.0000   65.000000  \n",
       "gender         1.000000    2.0000    2.000000  \n",
       "height       165.000000  170.0000  207.000000  \n",
       "weight        71.000000   80.0000  135.000000  \n",
       "ap_hi        120.000000  140.0000  200.000000  \n",
       "ap_lo         80.000000   90.0000  130.000000  \n",
       "cholesterol    1.000000    1.0000    3.000000  \n",
       "gluc           1.000000    1.0000    3.000000  \n",
       "smoke          0.000000    0.0000    1.000000  \n",
       "alco           0.000000    0.0000    1.000000  \n",
       "active         1.000000    1.0000    1.000000  \n",
       "cardio         0.000000    1.0000    1.000000  \n",
       "bmi           26.171875   29.7442   39.476813  "
      ]
     },
     "execution_count": 60,
     "metadata": {},
     "output_type": "execute_result"
    }
   ],
   "source": [
    "df_out.describe().T"
   ]
  },
  {
   "cell_type": "markdown",
   "id": "958c2118",
   "metadata": {},
   "source": [
    "Since out data does not follow gaussian distribution (i.e. it is not normal) we apply normalization to our data which adjusts the values of our numeric data to common scale without altering the range of the data. We also have removed outliers as well."
   ]
  },
  {
   "cell_type": "code",
   "execution_count": 61,
   "id": "24588d2f",
   "metadata": {},
   "outputs": [
    {
     "data": {
      "text/plain": [
       "0    34037\n",
       "1    32528\n",
       "Name: cardio, dtype: int64"
      ]
     },
     "execution_count": 61,
     "metadata": {},
     "output_type": "execute_result"
    }
   ],
   "source": [
    "df_out['cardio'].value_counts()"
   ]
  },
  {
   "cell_type": "code",
   "execution_count": 62,
   "id": "bb4e15c4",
   "metadata": {},
   "outputs": [],
   "source": [
    "X = df_out.loc[:, df.columns != 'cardio']\n",
    "y = df_out[['cardio']]"
   ]
  },
  {
   "cell_type": "code",
   "execution_count": 63,
   "id": "40eec218",
   "metadata": {},
   "outputs": [
    {
     "data": {
      "text/plain": [
       "(66565, 12)"
      ]
     },
     "execution_count": 63,
     "metadata": {},
     "output_type": "execute_result"
    }
   ],
   "source": [
    "X.shape"
   ]
  },
  {
   "cell_type": "code",
   "execution_count": null,
   "id": "d3309616",
   "metadata": {},
   "outputs": [],
   "source": []
  },
  {
   "cell_type": "code",
   "execution_count": 64,
   "id": "89c5653d",
   "metadata": {},
   "outputs": [
    {
     "data": {
      "text/plain": [
       "(66565, 1)"
      ]
     },
     "execution_count": 64,
     "metadata": {},
     "output_type": "execute_result"
    }
   ],
   "source": [
    "y.shape"
   ]
  },
  {
   "cell_type": "code",
   "execution_count": 65,
   "id": "7f307628",
   "metadata": {},
   "outputs": [],
   "source": [
    "#normalizing the data\n",
    "from sklearn.preprocessing import MinMaxScaler\n",
    "norm = MinMaxScaler().fit(X)\n",
    "\n",
    "X = norm.transform(X)"
   ]
  },
  {
   "cell_type": "code",
   "execution_count": 66,
   "id": "4c321518",
   "metadata": {},
   "outputs": [],
   "source": [
    "X_train, X_val, y_train, y_val = train_test_split(X, y, test_size = 0.25, random_state = 42)"
   ]
  },
  {
   "cell_type": "code",
   "execution_count": 67,
   "id": "68147646",
   "metadata": {},
   "outputs": [
    {
     "name": "stdout",
     "output_type": "stream",
     "text": [
      "Training dataset size: (49923, 12)\n",
      "Validation dataset size: (16642, 12)\n"
     ]
    }
   ],
   "source": [
    "print('Training dataset size:', X_train.shape)\n",
    "print('Validation dataset size:', X_val.shape)"
   ]
  },
  {
   "cell_type": "markdown",
   "id": "57a4d1b9",
   "metadata": {},
   "source": [
    "### Decision Tree"
   ]
  },
  {
   "cell_type": "code",
   "execution_count": 68,
   "id": "f10bc00f",
   "metadata": {},
   "outputs": [
    {
     "name": "stdout",
     "output_type": "stream",
     "text": [
      "Fitting 5 folds for each of 243 candidates, totalling 1215 fits\n",
      "{'criterion': 'entropy', 'max_depth': 7, 'max_features': 7, 'splitter': 'best'}\n"
     ]
    }
   ],
   "source": [
    "#gridsearch to find best parameters for decision tree classifier\n",
    "params = {'criterion' : ['gini', \"entropy\", \"log_loss\"],\n",
    "          'splitter'  : ['best'], \n",
    "          'max_depth' : range(2,11,1),\n",
    "         'max_features' : range(2,11,1)}\n",
    "\n",
    "grid = GridSearchCV(DecisionTreeClassifier(), params, refit = True, verbose = 3,n_jobs=-1, scoring='accuracy', cv=5) \n",
    "   \n",
    "# fitting the model for grid search \n",
    "grid.fit(X_train, y_train) \n",
    " \n",
    "# print best parameter after tuning \n",
    "print(grid.best_params_) \n",
    "grid_predictions = grid.predict(X_val) "
   ]
  },
  {
   "cell_type": "code",
   "execution_count": 69,
   "id": "67a5bcc8",
   "metadata": {},
   "outputs": [
    {
     "name": "stdout",
     "output_type": "stream",
     "text": [
      "Accuracy of the Decision Tree model: 72.87%\n",
      "\n",
      "f1 score of the Decision Tree model: 73.0%\n",
      "\n",
      "Cross validation accuracy of the Decision Tree model: 72.79%\n",
      "\n",
      "Classification Report:\n",
      "               precision    recall  f1-score   support\n",
      "\n",
      "           0       0.79      0.71      0.75      9488\n",
      "           1       0.66      0.75      0.70      7154\n",
      "\n",
      "    accuracy                           0.73     16642\n",
      "   macro avg       0.73      0.73      0.73     16642\n",
      "weighted avg       0.74      0.73      0.73     16642\n",
      "\n"
     ]
    },
    {
     "data": {
      "image/png": "[encoded data removed]",
      "text/plain": [
       "<Figure size 432x288 with 2 Axes>"
      ]
     },
     "metadata": {
      "needs_background": "light"
     },
     "output_type": "display_data"
    }
   ],
   "source": [
    "dt_model = DecisionTreeClassifier(criterion='gini', max_depth=7, max_features=9, splitter='best')\n",
    "\n",
    "dt_model.fit(X_train, y_train)\n",
    "y_pred = dt_model.predict(X_val)\n",
    "\n",
    "accuracy = accuracy_score(y_val,y_pred)\n",
    "f1score = metrics.f1_score(y_pred,y_val,average='weighted')\n",
    "\n",
    "kfold = KFold(n_splits=5)\n",
    "cv = cross_val_score(dt_model,X_train,y_train,cv=kfold)\n",
    "\n",
    "report = classification_report(y_pred,y_val, zero_division=1)\n",
    "\n",
    "print(f\"Accuracy of the Decision Tree model: {round(accuracy*100, 2)}%\\n\")\n",
    "print(f\"f1 score of the Decision Tree model: {round(f1score*100, 2)}%\\n\")\n",
    "print(f\"Cross validation accuracy of the Decision Tree model: {round(np.mean(cv)*100, 2)}%\\n\")\n",
    "print(\"Classification Report:\\n\", report)\n",
    "\n",
    "cm = confusion_matrix(y_val, y_pred)\n",
    "disp = ConfusionMatrixDisplay(confusion_matrix = cm, display_labels = dt_model.classes_)\n",
    "disp.plot(cmap=plt.cm.Blues)\n",
    "plt.title(\"Decision Tree Confusion Matrix\")\n",
    "plt.grid(visible=False)\n",
    "plt.show()"
   ]
  },
  {
   "cell_type": "code",
   "execution_count": 70,
   "id": "305c5fb6",
   "metadata": {},
   "outputs": [
    {
     "data": {
      "image/png": "[encoded data removed]",
      "text/plain": [
       "<Figure size 1080x360 with 2 Axes>"
      ]
     },
     "metadata": {
      "needs_background": "light"
     },
     "output_type": "display_data"
    }
   ],
   "source": [
    "plt.figure(figsize=(15, 5))\n",
    "\n",
    "from sklearn.metrics import RocCurveDisplay\n",
    "ax1 = plt.subplot(1,2,1)\n",
    "disp_roc = RocCurveDisplay.from_predictions(y_val,y_pred, ax=ax1, name=\"dt_model\")\n",
    "plt.title(\"Decision Tree AUC Curve\")\n",
    "\n",
    "from yellowbrick.classifier import ROCAUC\n",
    "ax2 = plt.subplot(1,2,2)\n",
    "rocauc = ROCAUC(dt_model, classes=['False', 'True'], ax=ax2,\n",
    "                   title='Decision Tree ROC AUC Plot')\n",
    "rocauc.fit(X_train, y_train)\n",
    "rocauc.score(X_val, y_val)\n",
    "rocauc.finalize()\n",
    "\n",
    "plt.show()"
   ]
  },
  {
   "cell_type": "code",
   "execution_count": 71,
   "id": "55659d25",
   "metadata": {},
   "outputs": [],
   "source": [
    "model_comparison = {}\n",
    "model_comparison['Decision Tree']=[accuracy,\n",
    "                                   f1score,\n",
    "                                   np.mean(cv)]"
   ]
  },
  {
   "cell_type": "code",
   "execution_count": 72,
   "id": "39a7a813",
   "metadata": {},
   "outputs": [
    {
     "name": "stdout",
     "output_type": "stream",
     "text": [
      "Fitting 5 folds for each of 972 candidates, totalling 4860 fits\n",
      "{'criterion': 'log_loss', 'max_depth': 9, 'n_estimators': 10, 'n_jobs': 5}\n"
     ]
    }
   ],
   "source": [
    "#gridsearch to find best parameters for random forest classifier\n",
    "params = {'criterion' : ['gini', \"entropy\", \"log_loss\"], \n",
    "          'max_depth' : range(2,11,1),\n",
    "         'n_estimators' : range(2,11,1),\n",
    "         'n_jobs': [2,3,4,5]}\n",
    "\n",
    "grid = GridSearchCV(RandomForestClassifier(), params, refit = True, verbose = 3,n_jobs=-1, scoring='accuracy', cv=5) \n",
    "   \n",
    "# fitting the model for grid search \n",
    "grid.fit(X_train, y_train) \n",
    " \n",
    "# print best parameter after tuning \n",
    "print(grid.best_params_) \n",
    "grid_predictions = grid.predict(X_val) "
   ]
  },
  {
   "cell_type": "code",
   "execution_count": 73,
   "id": "16ec02ed",
   "metadata": {},
   "outputs": [
    {
     "name": "stdout",
     "output_type": "stream",
     "text": [
      "Accuracy of the Random Forest model: 72.82%\n",
      "\n",
      "f1 score of the Random Forest model: 72.95%\n",
      "\n",
      "Cross validation accuracy of the Random Forest model: 73.04%\n",
      "\n",
      "Classification Report:\n",
      "               precision    recall  f1-score   support\n",
      "\n",
      "           0       0.79      0.71      0.75      9478\n",
      "           1       0.66      0.75      0.70      7164\n",
      "\n",
      "    accuracy                           0.73     16642\n",
      "   macro avg       0.73      0.73      0.73     16642\n",
      "weighted avg       0.74      0.73      0.73     16642\n",
      "\n"
     ]
    },
    {
     "data": {
      "image/png": "[encoded data removed]",
      "text/plain": [
       "<Figure size 576x396 with 2 Axes>"
      ]
     },
     "metadata": {},
     "output_type": "display_data"
    }
   ],
   "source": [
    "rf_model = RandomForestClassifier(criterion='gini', max_depth=9, n_estimators=8, n_jobs=2)\n",
    "\n",
    "rf_model.fit(X_train, y_train)\n",
    "y_pred = rf_model.predict(X_val)\n",
    "\n",
    "accuracy = accuracy_score(y_val,y_pred)\n",
    "f1score = metrics.f1_score(y_pred,y_val,average='weighted')\n",
    "\n",
    "kfold = KFold(n_splits=5)\n",
    "cv = cross_val_score(rf_model,X_train,y_train,cv=kfold)\n",
    "\n",
    "report = classification_report(y_pred,y_val, zero_division=1)\n",
    "\n",
    "print(f\"Accuracy of the Random Forest model: {round(accuracy*100, 2)}%\\n\")\n",
    "print(f\"f1 score of the Random Forest model: {round(f1score*100, 2)}%\\n\")\n",
    "print(f\"Cross validation accuracy of the Random Forest model: {round(np.mean(cv)*100, 2)}%\\n\")\n",
    "print(\"Classification Report:\\n\", report)\n",
    "\n",
    "cm = confusion_matrix(y_val, y_pred)\n",
    "disp = ConfusionMatrixDisplay(confusion_matrix = cm, display_labels = rf_model.classes_)\n",
    "disp.plot(cmap=plt.cm.Blues)\n",
    "plt.title(\"Random Forest Confusion Matrix\")\n",
    "plt.grid(visible=False)\n",
    "plt.show()"
   ]
  },
  {
   "cell_type": "code",
   "execution_count": 74,
   "id": "3ea2be42",
   "metadata": {},
   "outputs": [
    {
     "data": {
      "image/png": "[encoded data removed]",
      "text/plain": [
       "<Figure size 1080x360 with 2 Axes>"
      ]
     },
     "metadata": {},
     "output_type": "display_data"
    }
   ],
   "source": [
    "plt.figure(figsize=(15, 5))\n",
    "\n",
    "from sklearn.metrics import RocCurveDisplay\n",
    "ax1 = plt.subplot(1,2,1)\n",
    "disp_roc = RocCurveDisplay.from_predictions(y_val,y_pred, ax=ax1, name=\"rf_model\")\n",
    "plt.title(\"Random Forest AUC Curve\")\n",
    "\n",
    "from yellowbrick.classifier import ROCAUC\n",
    "ax2 = plt.subplot(1,2,2)\n",
    "rocauc = ROCAUC(rf_model, classes=['False', 'True'], ax=ax2,\n",
    "                   title='Random Forest ROC AUC Plot')\n",
    "rocauc.fit(X_train, y_train)\n",
    "rocauc.score(X_val, y_val)\n",
    "rocauc.finalize()\n",
    "\n",
    "plt.show()"
   ]
  },
  {
   "cell_type": "code",
   "execution_count": 75,
   "id": "0838ce17",
   "metadata": {},
   "outputs": [],
   "source": [
    "model_comparison['Random Forest']=[accuracy,\n",
    "                                   f1score,\n",
    "                                   np.mean(cv)]"
   ]
  },
  {
   "cell_type": "code",
   "execution_count": 78,
   "id": "0430f98d",
   "metadata": {},
   "outputs": [],
   "source": [
    "#gridsearch to find best parameters for Adaboost classifier\n",
    "params = {'n_estimators' : range(2,11,1),\n",
    "         'random_state': range(0,50, 5),\n",
    "         'learning_rate': np.arange(0.1, 1.0, 0.1)}\n",
    "\n",
    "grid = GridSearchCV(AdaBoostClassifier(), params, refit = True, verbose = 3,n_jobs=-1, scoring='accuracy', cv=5) \n",
    "   \n",
    "# fitting the model for grid search \n",
    "grid.fit(X_train, y_train) \n",
    " \n",
    "# print best parameter after tuning \n",
    "print(grid.best_params_) \n",
    "grid_predictions = grid.predict(X_val) "
   ]
  },
  {
   "cell_type": "code",
   "execution_count": 77,
   "id": "42a7c372",
   "metadata": {},
   "outputs": [
    {
     "name": "stdout",
     "output_type": "stream",
     "text": [
      "Accuracy of the AdaBoost model: 72.31%\n",
      "\n",
      "f1 score of the AdaBoost model: 72.52%\n",
      "\n",
      "Cross validation accuracy of the AdaBoost model: 72.48%\n",
      "\n",
      "Classification Report:\n",
      "               precision    recall  f1-score   support\n",
      "\n",
      "           0       0.80      0.70      0.75      9783\n",
      "           1       0.64      0.76      0.69      6859\n",
      "\n",
      "    accuracy                           0.72     16642\n",
      "   macro avg       0.72      0.73      0.72     16642\n",
      "weighted avg       0.74      0.72      0.73     16642\n",
      "\n"
     ]
    },
    {
     "data": {
      "text/plain": [
       "<Figure size 720x360 with 0 Axes>"
      ]
     },
     "metadata": {},
     "output_type": "display_data"
    },
    {
     "data": {
      "image/png": "[encoded data removed]",
      "text/plain": [
       "<Figure size 576x396 with 2 Axes>"
      ]
     },
     "metadata": {},
     "output_type": "display_data"
    }
   ],
   "source": [
    "ada_model = AdaBoostClassifier(learning_rate=0.8, n_estimators=10, random_state=0)\n",
    "\n",
    "ada_model.fit(X_train, y_train)\n",
    "y_pred = ada_model.predict(X_val)\n",
    "\n",
    "accuracy = accuracy_score(y_val,y_pred)\n",
    "f1score = metrics.f1_score(y_pred,y_val,average='weighted')\n",
    "\n",
    "kfold = KFold(n_splits=5)\n",
    "cv = cross_val_score(ada_model,X_train,y_train,cv=kfold)\n",
    "\n",
    "report = classification_report(y_pred,y_val, zero_division=1)\n",
    "\n",
    "print(f\"Accuracy of the AdaBoost model: {round(accuracy*100, 2)}%\\n\")\n",
    "print(f\"f1 score of the AdaBoost model: {round(f1score*100, 2)}%\\n\")\n",
    "print(f\"Cross validation accuracy of the AdaBoost model: {round(np.mean(cv)*100, 2)}%\\n\")\n",
    "print(\"Classification Report:\\n\", report)\n",
    "\n",
    "plt.figure(figsize=(10, 5))\n",
    "cm = confusion_matrix(y_val, y_pred)\n",
    "disp = ConfusionMatrixDisplay(confusion_matrix = cm, display_labels = ada_model.classes_)\n",
    "disp.plot(cmap=plt.cm.Blues)\n",
    "plt.title(\"Adaboost Confusion Matrix\")\n",
    "plt.grid(visible=False)\n",
    "plt.show()"
   ]
  },
  {
   "cell_type": "code",
   "execution_count": 79,
   "id": "77b5ab37",
   "metadata": {},
   "outputs": [],
   "source": [
    "model_comparison['Ada Boost']=[accuracy,\n",
    "                                   f1score,\n",
    "                                   np.mean(cv)]"
   ]
  },
  {
   "cell_type": "code",
   "execution_count": 80,
   "id": "5093dca7",
   "metadata": {},
   "outputs": [
    {
     "data": {
      "image/png": "[encoded data removed]",
      "text/plain": [
       "<Figure size 1080x360 with 2 Axes>"
      ]
     },
     "metadata": {},
     "output_type": "display_data"
    }
   ],
   "source": [
    "plt.figure(figsize=(15, 5))\n",
    "\n",
    "from sklearn.metrics import RocCurveDisplay\n",
    "ax1 = plt.subplot(1,2,1)\n",
    "disp_roc = RocCurveDisplay.from_predictions(y_val,y_pred, ax=ax1, name=\"Ada_Boost\")\n",
    "plt.title(\"Ada Boost AUC Curve\")\n",
    "\n",
    "from yellowbrick.classifier import ROCAUC\n",
    "ax2 = plt.subplot(1,2,2)\n",
    "ada_rocauc = ROCAUC(ada_model, classes=['False', 'True'], ax=ax2,\n",
    "                   title='Ada Boost ROC AUC Plot')\n",
    "ada_rocauc.fit(X_train, y_train)\n",
    "ada_rocauc.score(X_val, y_val)\n",
    "ada_rocauc.finalize()\n",
    "\n",
    "plt.show()"
   ]
  },
  {
   "cell_type": "code",
   "execution_count": 81,
   "id": "2d9ff37c",
   "metadata": {},
   "outputs": [
    {
     "name": "stdout",
     "output_type": "stream",
     "text": [
      "Fitting 5 folds for each of 270 candidates, totalling 1350 fits\n",
      "{'kernel': 'linear', 'max_iter': 7, 'random_state': 0}\n"
     ]
    }
   ],
   "source": [
    "#gridsearch to find best parameters for Adaboost classifier\n",
    "params = {'max_iter' : range(2,11,1),\n",
    "         'random_state': range(0,50, 5),\n",
    "         'kernel': ['rbf','linear', 'sigmoid']}\n",
    "\n",
    "grid = GridSearchCV(SVC(), params, refit = True, verbose = 3,n_jobs=-1, scoring='accuracy', cv=5) \n",
    "   \n",
    "# fitting the model for grid search \n",
    "grid.fit(X_train, y_train) \n",
    " \n",
    "# print best parameter after tuning \n",
    "print(grid.best_params_) \n",
    "grid_predictions = grid.predict(X_val) "
   ]
  },
  {
   "cell_type": "code",
   "execution_count": 82,
   "id": "5d78a7b7",
   "metadata": {},
   "outputs": [
    {
     "name": "stdout",
     "output_type": "stream",
     "text": [
      "Accuracy of the SVC model: 57.62%\n",
      "\n",
      "f1 score of the SVC model: 58.38%\n",
      "\n",
      "Cross validation accuracy of the SVC model: 57.13%\n",
      "\n",
      "Classification Report:\n",
      "               precision    recall  f1-score   support\n",
      "\n",
      "           0       0.44      0.62      0.52      6106\n",
      "           1       0.71      0.55      0.62     10536\n",
      "\n",
      "    accuracy                           0.58     16642\n",
      "   macro avg       0.58      0.59      0.57     16642\n",
      "weighted avg       0.62      0.58      0.58     16642\n",
      "\n"
     ]
    },
    {
     "data": {
      "image/png": "[encoded data removed]",
      "text/plain": [
       "<Figure size 576x396 with 2 Axes>"
      ]
     },
     "metadata": {},
     "output_type": "display_data"
    }
   ],
   "source": [
    "svc_model = SVC(kernel='linear', max_iter=7, random_state=0)\n",
    "\n",
    "svc_model.fit(X_train, y_train)\n",
    "y_pred = svc_model.predict(X_val)\n",
    "\n",
    "accuracy = accuracy_score(y_val,y_pred)\n",
    "f1score = metrics.f1_score(y_pred,y_val,average='weighted')\n",
    "\n",
    "kfold = KFold(n_splits=5)\n",
    "cv = cross_val_score(svc_model,X_train,y_train,cv=kfold)\n",
    "\n",
    "report = classification_report(y_pred,y_val, zero_division=1)\n",
    "\n",
    "print(f\"Accuracy of the SVC model: {round(accuracy*100, 2)}%\\n\")\n",
    "print(f\"f1 score of the SVC model: {round(f1score*100, 2)}%\\n\")\n",
    "print(f\"Cross validation accuracy of the SVC model: {round(np.mean(cv)*100, 2)}%\\n\")\n",
    "print(\"Classification Report:\\n\", report)\n",
    "\n",
    "cm = confusion_matrix(y_val, y_pred)\n",
    "disp = ConfusionMatrixDisplay(confusion_matrix = cm, display_labels = svc_model.classes_)\n",
    "disp.plot(cmap=plt.cm.Blues)\n",
    "plt.title(\"SVC Confusion Matrix\")\n",
    "plt.grid(visible=False)\n",
    "plt.show()"
   ]
  },
  {
   "cell_type": "code",
   "execution_count": 83,
   "id": "c4c03997",
   "metadata": {},
   "outputs": [],
   "source": [
    "model_comparison['SVC']=[accuracy,\n",
    "                                   f1score,\n",
    "                                   np.mean(cv)]"
   ]
  },
  {
   "cell_type": "code",
   "execution_count": 84,
   "id": "b2ee81d0",
   "metadata": {},
   "outputs": [
    {
     "data": {
      "image/png": "[encoded data removed]",
      "text/plain": [
       "<Figure size 1080x360 with 1 Axes>"
      ]
     },
     "metadata": {},
     "output_type": "display_data"
    }
   ],
   "source": [
    "plt.figure(figsize=(15, 5))\n",
    "\n",
    "from yellowbrick.classifier import ROCAUC\n",
    "ax2 = plt.subplot(1,2,1)\n",
    "rocauc = ROCAUC(svc_model, classes=['False', 'True'], ax=ax2,\n",
    "                   title='SVC ROC AUC Plot', binary=True)\n",
    "rocauc.fit(X_train, y_train)\n",
    "rocauc.score(X_val, y_val)\n",
    "rocauc.finalize()\n",
    "\n",
    "plt.show()"
   ]
  },
  {
   "cell_type": "code",
   "execution_count": 85,
   "id": "2b4f2897",
   "metadata": {},
   "outputs": [
    {
     "data": {
      "text/html": [
       "<style type=\"text/css\">\n",
       "#T_c9857_row0_col0, #T_c9857_row0_col1, #T_c9857_row0_col2, #T_c9857_row1_col0, #T_c9857_row1_col1 {\n",
       "  background-color: #00441b;\n",
       "  color: #f1f1f1;\n",
       "}\n",
       "#T_c9857_row1_col2 {\n",
       "  background-color: #00481d;\n",
       "  color: #f1f1f1;\n",
       "}\n",
       "#T_c9857_row2_col0, #T_c9857_row2_col2 {\n",
       "  background-color: #005020;\n",
       "  color: #f1f1f1;\n",
       "}\n",
       "#T_c9857_row2_col1 {\n",
       "  background-color: #004e1f;\n",
       "  color: #f1f1f1;\n",
       "}\n",
       "#T_c9857_row3_col0, #T_c9857_row3_col1, #T_c9857_row3_col2 {\n",
       "  background-color: #f7fcf5;\n",
       "  color: #000000;\n",
       "}\n",
       "</style>\n",
       "<table id=\"T_c9857\">\n",
       "  <thead>\n",
       "    <tr>\n",
       "      <th class=\"blank level0\" >&nbsp;</th>\n",
       "      <th id=\"T_c9857_level0_col0\" class=\"col_heading level0 col0\" >Model Accuracy</th>\n",
       "      <th id=\"T_c9857_level0_col1\" class=\"col_heading level0 col1\" >Model F1-Score</th>\n",
       "      <th id=\"T_c9857_level0_col2\" class=\"col_heading level0 col2\" >CV Accuracy</th>\n",
       "    </tr>\n",
       "  </thead>\n",
       "  <tbody>\n",
       "    <tr>\n",
       "      <th id=\"T_c9857_level0_row0\" class=\"row_heading level0 row0\" >Random Forest</th>\n",
       "      <td id=\"T_c9857_row0_col0\" class=\"data row0 col0\" >72.82%</td>\n",
       "      <td id=\"T_c9857_row0_col1\" class=\"data row0 col1\" >72.95%</td>\n",
       "      <td id=\"T_c9857_row0_col2\" class=\"data row0 col2\" >73.04%</td>\n",
       "    </tr>\n",
       "    <tr>\n",
       "      <th id=\"T_c9857_level0_row1\" class=\"row_heading level0 row1\" >Decision Tree</th>\n",
       "      <td id=\"T_c9857_row1_col0\" class=\"data row1 col0\" >72.87%</td>\n",
       "      <td id=\"T_c9857_row1_col1\" class=\"data row1 col1\" >73.00%</td>\n",
       "      <td id=\"T_c9857_row1_col2\" class=\"data row1 col2\" >72.79%</td>\n",
       "    </tr>\n",
       "    <tr>\n",
       "      <th id=\"T_c9857_level0_row2\" class=\"row_heading level0 row2\" >Ada Boost</th>\n",
       "      <td id=\"T_c9857_row2_col0\" class=\"data row2 col0\" >72.31%</td>\n",
       "      <td id=\"T_c9857_row2_col1\" class=\"data row2 col1\" >72.52%</td>\n",
       "      <td id=\"T_c9857_row2_col2\" class=\"data row2 col2\" >72.48%</td>\n",
       "    </tr>\n",
       "    <tr>\n",
       "      <th id=\"T_c9857_level0_row3\" class=\"row_heading level0 row3\" >SVC</th>\n",
       "      <td id=\"T_c9857_row3_col0\" class=\"data row3 col0\" >57.62%</td>\n",
       "      <td id=\"T_c9857_row3_col1\" class=\"data row3 col1\" >58.38%</td>\n",
       "      <td id=\"T_c9857_row3_col2\" class=\"data row3 col2\" >57.13%</td>\n",
       "    </tr>\n",
       "  </tbody>\n",
       "</table>\n"
      ],
      "text/plain": [
       "<pandas.io.formats.style.Styler at 0x167043383d0>"
      ]
     },
     "execution_count": 85,
     "metadata": {},
     "output_type": "execute_result"
    }
   ],
   "source": [
    "#Details of all the models in comparison\n",
    "models_df=pd.DataFrame(model_comparison).T\n",
    "models_df.columns=['Model Accuracy','Model F1-Score','CV Accuracy']\n",
    "models_df=models_df.sort_values(by='CV Accuracy',ascending=False)\n",
    "models_df.style.format(\"{:.2%}\").background_gradient(cmap='Greens')"
   ]
  },
  {
   "cell_type": "markdown",
   "id": "9ca37f49",
   "metadata": {},
   "source": [
    "The random forest model outperforms the other models in all the aspects, accuracy, f1-score, and cross-validation accuracy. THe AUC of random forest is also more compared to the other models. Therefore, we can say that the random forest model is the best model for this dataset. A further will be made where I will take this dataset and run it through deep learning neural network model in the future."
   ]
  },
  {
   "cell_type": "markdown",
   "id": "47fe2370",
   "metadata": {},
   "source": [
    "# Prediction"
   ]
  },
  {
   "cell_type": "code",
   "execution_count": 86,
   "id": "eee4af37",
   "metadata": {},
   "outputs": [],
   "source": [
    "test = [[35,1,168,62,110,70,1,0,1,0,1, 30.0]]\n",
    "test = norm.transform(test)"
   ]
  },
  {
   "cell_type": "code",
   "execution_count": 87,
   "id": "5682139f",
   "metadata": {},
   "outputs": [],
   "source": [
    "pred = rf_model.predict(test)"
   ]
  },
  {
   "cell_type": "code",
   "execution_count": 88,
   "id": "a6ba7608",
   "metadata": {},
   "outputs": [
    {
     "name": "stdout",
     "output_type": "stream",
     "text": [
      "NO! Cardiovascular Disease\n"
     ]
    }
   ],
   "source": [
    "if pred:\n",
    "    print(\"Cardiovascular Disease Detected!\")\n",
    "else:\n",
    "    print(\"NO! Cardiovascular Disease\" )"
   ]
  },
  {
   "cell_type": "markdown",
   "id": "1483af3d",
   "metadata": {},
   "source": [
    "## Export model"
   ]
  },
  {
   "cell_type": "code",
   "execution_count": 89,
   "id": "f288e612",
   "metadata": {},
   "outputs": [],
   "source": [
    "import pickle\n",
    "filename = 'CVD_RF_model.pkl'\n",
    "pickle_out =  open(filename, 'wb')\n",
    "pickle.dump(rf_model, open(filename, 'wb'))\n",
    "pickle_out.close()"
   ]
  },
  {
   "cell_type": "code",
   "execution_count": null,
   "id": "6c235d9e",
   "metadata": {},
   "outputs": [],
   "source": []
  },
  {
   "cell_type": "code",
   "execution_count": null,
   "id": "c5cf07af",
   "metadata": {},
   "outputs": [],
   "source": []
  }
 ],
 "metadata": {
  "kernelspec": {
   "display_name": "Python 3 (ipykernel)",
   "language": "python",
   "name": "python3"
  },
  "language_info": {
   "codemirror_mode": {
    "name": "ipython",
    "version": 3
   },
   "file_extension": ".py",
   "mimetype": "text/x-python",
   "name": "python",
   "nbconvert_exporter": "python",
   "pygments_lexer": "ipython3",
   "version": "3.9.12"
  }
 },
 "nbformat": 4,
 "nbformat_minor": 5
}
